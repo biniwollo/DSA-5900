{
  "nbformat": 4,
  "nbformat_minor": 0,
  "metadata": {
    "colab": {
      "provenance": []
    },
    "kernelspec": {
      "name": "python3",
      "display_name": "Python 3"
    },
    "language_info": {
      "name": "python"
    }
  },
  "cells": [
    {
      "cell_type": "markdown",
      "source": [
        "pip install yfinance"
      ],
      "metadata": {
        "id": "J1cfIAJP0LTI"
      }
    },
    {
      "cell_type": "code",
      "source": [
        "import yfinance as yf\n",
        "import pandas as pd\n",
        "import os\n",
        "\n",
        "# List of companies (tickers) to fetch data for\n",
        "companies = ['AAPL', 'MSFT', 'GOOGL', 'AMZN', 'TSLA']\n",
        "\n",
        "# Define a period for historical data (1 year)\n",
        "start_date = '2023-01-01'\n",
        "end_date = '2023-12-31'\n",
        "\n",
        "# Directory where the files will be saved\n",
        "directory = r'C:/Personal Doc/Class/DSA 5900 Data Science Practicum/Project WIP/DataSource/'\n",
        "\n",
        "# Check if the directory exists; if not, create it\n",
        "if not os.path.exists(directory):\n",
        "    os.makedirs(directory)\n",
        "\n",
        "# Dictionary to store each company's data\n",
        "financial_data = {}\n",
        "\n",
        "for company in companies:\n",
        "    # Download data from Yahoo Finance\n",
        "    data = yf.download(company, start=start_date, end=end_date)\n",
        "    financial_data[company] = data\n",
        "\n",
        "    # Save each company's data to a CSV file in the specified directory\n",
        "    company_file_path = f'{directory}{company}_data.csv'\n",
        "    data.to_csv(company_file_path)\n",
        "    print(f\"Data for {company} saved to {company_file_path}\")\n",
        "\n",
        "# Combine the data into one DataFrame\n",
        "combined_data = pd.concat(financial_data, axis=1)\n",
        "\n",
        "# Save the combined data to a CSV file in the specified directory\n",
        "combined_file_path = f'{directory}combined_financial_data.csv'\n",
        "combined_data.to_csv(combined_file_path)\n",
        "print(f\"Combined data saved to {combined_file_path}\")\n"
      ],
      "metadata": {
        "id": "RDsTyDtA6BzJ"
      },
      "execution_count": null,
      "outputs": []
    },
    {
      "cell_type": "code",
      "source": [
        "import yfinance as yf\n",
        "import pandas as pd\n",
        "\n",
        "# List of companies (tickers) to fetch data for\n",
        "companies = ['AAPL', 'MSFT', 'GOOGL', 'AMZN', 'TSLA']\n",
        "\n",
        "# Define a period for historical data (1 year)\n",
        "start_date = '2023-01-01'\n",
        "end_date = '2023-12-31'\n",
        "\n",
        "# Dictionary to store each company's data\n",
        "financial_data = {}\n",
        "\n",
        "for company in companies:\n",
        "    # Download data from Yahoo Finance\n",
        "    data = yf.download(company, start=start_date, end=end_date)\n",
        "    financial_data[company] = data\n",
        "\n",
        "    # Save each company's data to a CSV file\n",
        "    company_file_path = f'{company}_data.csv'\n",
        "    data.to_csv(company_file_path)\n",
        "    print(f\"Data for {company} saved to {company_file_path}\")\n",
        "\n",
        "# Combine the data into one DataFrame\n",
        "combined_data = pd.concat(financial_data, axis=1)\n",
        "\n",
        "# Save the combined data to a CSV file\n",
        "combined_file_path = 'combined_financial_data.csv'\n",
        "combined_data.to_csv(combined_file_path)\n",
        "print(f\"Combined data saved to {combined_file_path}\")\n"
      ],
      "metadata": {
        "id": "c6ldmZsv8zne"
      },
      "execution_count": null,
      "outputs": []
    }
  ]
}