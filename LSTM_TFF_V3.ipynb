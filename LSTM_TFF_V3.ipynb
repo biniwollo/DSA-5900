{
  "nbformat": 4,
  "nbformat_minor": 0,
  "metadata": {
    "colab": {
      "provenance": [],
      "authorship_tag": "ABX9TyNBFFH4b5GMRPhiRqgKQ7/p",
      "include_colab_link": true
    },
    "kernelspec": {
      "name": "python3",
      "display_name": "Python 3"
    },
    "language_info": {
      "name": "python"
    }
  },
  "cells": [
    {
      "cell_type": "markdown",
      "metadata": {
        "id": "view-in-github",
        "colab_type": "text"
      },
      "source": [
        "<a href=\"https://colab.research.google.com/github/biniwollo/DSA-5900/blob/main/LSTM_TFF_V3.ipynb\" target=\"_parent\"><img src=\"https://colab.research.google.com/assets/colab-badge.svg\" alt=\"Open In Colab\"/></a>"
      ]
    },
    {
      "cell_type": "code",
      "source": [
        "#install tensorflow federated\n",
        "!pip install tensorflow-federated"
      ],
      "metadata": {
        "id": "Ohbfs0fPRGgu"
      },
      "execution_count": null,
      "outputs": []
    },
    {
      "cell_type": "code",
      "source": [
        "import tensorflow_federated as tff\n",
        "\n",
        "# Verify TensorFlow Federated version\n",
        "print(f\"TensorFlow Federated Version: {tff.__version__}\")\n",
        "\n",
        "\n"
      ],
      "metadata": {
        "colab": {
          "base_uri": "https://localhost:8080/"
        },
        "id": "ixlo5k6RR5U4",
        "outputId": "cc53bddb-fd67-498d-ceaa-7ba2dabd6364"
      },
      "execution_count": null,
      "outputs": [
        {
          "output_type": "stream",
          "name": "stdout",
          "text": [
            "TensorFlow Federated Version: 0.87.0\n"
          ]
        }
      ]
    },
    {
      "cell_type": "code",
      "source": [
        "import yfinance as yf\n",
        "import os\n",
        "import pandas as pd\n",
        "\n",
        "# Define the companies and their ticker symbols\n",
        "companies = {\n",
        "    'John Deere': 'DE',\n",
        "    'Archer-Daniels-Midland': 'ADM',\n",
        "    'Bunge Ltd': 'BG',\n",
        "    'The Mosaic Company': 'MOS',\n",
        "    'Corteva': 'CTVA'\n",
        "}\n",
        "\n",
        "# Set up directory in the default Colab environment\n",
        "base_dir = '/content/FinancialData'\n",
        "os.makedirs(base_dir, exist_ok=True)\n",
        "\n",
        "# Loop through each company and download the stock data\n",
        "for company, ticker in companies.items():\n",
        "    print(f\"Downloading data for {company} ({ticker})...\")\n",
        "    stock_data = yf.download(ticker, start='2019-09-16', end='2022-09-16')\n",
        "    file_path = os.path.join(base_dir, f\"{ticker}_stock_data.csv\")\n",
        "    stock_data.to_csv(file_path)\n",
        "    print(f\"Data for {company} ({ticker}) saved successfully at {file_path}\")\n",
        "\n",
        "# Combine all data into a single CSV (optional)\n",
        "combined_file_path = os.path.join(base_dir, \"combined_stock_data.csv\")\n",
        "combined_stock_data = pd.concat([pd.read_csv(os.path.join(base_dir, f\"{ticker}_stock_data.csv\")) for ticker in companies.values()])\n",
        "combined_stock_data.to_csv(combined_file_path, index=False)\n",
        "print(f\"Combined stock data saved at: {combined_file_path}\")\n"
      ],
      "metadata": {
        "colab": {
          "base_uri": "https://localhost:8080/"
        },
        "id": "Y7yethbuSd_R",
        "outputId": "539b1636-2359-42fd-c636-0ee01a3eae7e",
        "collapsed": true
      },
      "execution_count": null,
      "outputs": [
        {
          "output_type": "stream",
          "name": "stdout",
          "text": [
            "Downloading data for John Deere (DE)...\n"
          ]
        },
        {
          "output_type": "stream",
          "name": "stderr",
          "text": [
            "[*********************100%%**********************]  1 of 1 completed\n",
            "[*********************100%%**********************]  1 of 1 completed\n"
          ]
        },
        {
          "output_type": "stream",
          "name": "stdout",
          "text": [
            "Data for John Deere (DE) saved successfully at /content/FinancialData/DE_stock_data.csv\n",
            "Downloading data for Archer-Daniels-Midland (ADM)...\n",
            "Data for Archer-Daniels-Midland (ADM) saved successfully at /content/FinancialData/ADM_stock_data.csv\n",
            "Downloading data for Bunge Ltd (BG)...\n"
          ]
        },
        {
          "output_type": "stream",
          "name": "stderr",
          "text": [
            "[*********************100%%**********************]  1 of 1 completed\n",
            "[*********************100%%**********************]  1 of 1 completed\n"
          ]
        },
        {
          "output_type": "stream",
          "name": "stdout",
          "text": [
            "Data for Bunge Ltd (BG) saved successfully at /content/FinancialData/BG_stock_data.csv\n",
            "Downloading data for The Mosaic Company (MOS)...\n",
            "Data for The Mosaic Company (MOS) saved successfully at /content/FinancialData/MOS_stock_data.csv\n",
            "Downloading data for Corteva (CTVA)...\n"
          ]
        },
        {
          "output_type": "stream",
          "name": "stderr",
          "text": [
            "\r[*********************100%%**********************]  1 of 1 completed"
          ]
        },
        {
          "output_type": "stream",
          "name": "stdout",
          "text": [
            "Data for Corteva (CTVA) saved successfully at /content/FinancialData/CTVA_stock_data.csv\n",
            "Combined stock data saved at: /content/FinancialData/combined_stock_data.csv\n"
          ]
        },
        {
          "output_type": "stream",
          "name": "stderr",
          "text": [
            "\n"
          ]
        }
      ]
    },
    {
      "cell_type": "code",
      "source": [],
      "metadata": {
        "id": "aQco2oRzpo25"
      },
      "execution_count": null,
      "outputs": []
    },
    {
      "cell_type": "markdown",
      "source": [
        "To split the original downloaded data into training and test sets (80% for training, 20% for testing)"
      ],
      "metadata": {
        "id": "rnwLCopRr7tD"
      }
    },
    {
      "cell_type": "code",
      "source": [
        "import yfinance as yf\n",
        "import os\n",
        "import pandas as pd\n",
        "from sklearn.model_selection import train_test_split\n",
        "\n",
        "# Define the companies and their ticker symbols\n",
        "companies = {\n",
        "    'John Deere': 'DE',\n",
        "    'Archer-Daniels-Midland': 'ADM',\n",
        "    'Bunge Ltd': 'BG',\n",
        "    'The Mosaic Company': 'MOS',\n",
        "    'Corteva': 'CTVA'\n",
        "}\n",
        "\n",
        "# Set up directory in the default Colab environment\n",
        "base_dir = '/content/FinancialData'\n",
        "os.makedirs(base_dir, exist_ok=True)\n",
        "\n",
        "# Loop through each company, download the stock data, and split into train/test\n",
        "for company, ticker in companies.items():\n",
        "    print(f\"Downloading data for {company} ({ticker})...\")\n",
        "    stock_data = yf.download(ticker, start='2019-09-16', end='2024-09-16')\n",
        "\n",
        "    # Save the full dataset\n",
        "    file_path = os.path.join(base_dir, f\"{ticker}_stock_data.csv\")\n",
        "    stock_data.to_csv(file_path)\n",
        "    print(f\"Data for {company} ({ticker}) saved successfully at {file_path}\")\n",
        "\n",
        "    # Split into training and test sets (80% train, 20% test)\n",
        "    train_data, test_data = train_test_split(stock_data, test_size=0.2, shuffle=False)  # Shuffle=False to maintain time order\n",
        "\n",
        "    # Save train and test datasets\n",
        "    train_file_path = os.path.join(base_dir, f\"{ticker}_train_data.csv\")\n",
        "    test_file_path = os.path.join(base_dir, f\"{ticker}_test_data.csv\")\n",
        "    train_data.to_csv(train_file_path)\n",
        "    test_data.to_csv(test_file_path)\n",
        "    print(f\"Training data saved at {train_file_path}\")\n",
        "    print(f\"Test data saved at {test_file_path}\")\n",
        "\n",
        "# Combine all data into a single CSV (optional)\n",
        "combined_file_path = os.path.join(base_dir, \"combined_stock_data.csv\")\n",
        "combined_stock_data = pd.concat([pd.read_csv(os.path.join(base_dir, f\"{ticker}_stock_data.csv\")) for ticker in companies.values()])\n",
        "combined_stock_data.to_csv(combined_file_path, index=False)\n",
        "print(f\"Combined stock data saved at: {combined_file_path}\")\n"
      ],
      "metadata": {
        "colab": {
          "base_uri": "https://localhost:8080/"
        },
        "collapsed": true,
        "id": "mQRgcsrwpo0E",
        "outputId": "ded8b6b2-17fd-429e-cc0e-83421df3c95b"
      },
      "execution_count": null,
      "outputs": [
        {
          "output_type": "stream",
          "name": "stdout",
          "text": [
            "Downloading data for John Deere (DE)...\n"
          ]
        },
        {
          "output_type": "stream",
          "name": "stderr",
          "text": [
            "[*********************100%%**********************]  1 of 1 completed\n",
            "[*********************100%%**********************]  1 of 1 completed\n"
          ]
        },
        {
          "output_type": "stream",
          "name": "stdout",
          "text": [
            "Data for John Deere (DE) saved successfully at /content/FinancialData/DE_stock_data.csv\n",
            "Training data saved at /content/FinancialData/DE_train_data.csv\n",
            "Test data saved at /content/FinancialData/DE_test_data.csv\n",
            "Downloading data for Archer-Daniels-Midland (ADM)...\n",
            "Data for Archer-Daniels-Midland (ADM) saved successfully at /content/FinancialData/ADM_stock_data.csv\n",
            "Training data saved at /content/FinancialData/ADM_train_data.csv\n",
            "Test data saved at /content/FinancialData/ADM_test_data.csv\n",
            "Downloading data for Bunge Ltd (BG)...\n"
          ]
        },
        {
          "output_type": "stream",
          "name": "stderr",
          "text": [
            "[*********************100%%**********************]  1 of 1 completed\n",
            "[*********************100%%**********************]  1 of 1 completed\n"
          ]
        },
        {
          "output_type": "stream",
          "name": "stdout",
          "text": [
            "Data for Bunge Ltd (BG) saved successfully at /content/FinancialData/BG_stock_data.csv\n",
            "Training data saved at /content/FinancialData/BG_train_data.csv\n",
            "Test data saved at /content/FinancialData/BG_test_data.csv\n",
            "Downloading data for The Mosaic Company (MOS)...\n",
            "Data for The Mosaic Company (MOS) saved successfully at /content/FinancialData/MOS_stock_data.csv\n",
            "Training data saved at /content/FinancialData/MOS_train_data.csv\n",
            "Test data saved at /content/FinancialData/MOS_test_data.csv\n",
            "Downloading data for Corteva (CTVA)...\n"
          ]
        },
        {
          "output_type": "stream",
          "name": "stderr",
          "text": [
            "\r[*********************100%%**********************]  1 of 1 completed"
          ]
        },
        {
          "output_type": "stream",
          "name": "stdout",
          "text": [
            "Data for Corteva (CTVA) saved successfully at /content/FinancialData/CTVA_stock_data.csv\n",
            "Training data saved at /content/FinancialData/CTVA_train_data.csv\n",
            "Test data saved at /content/FinancialData/CTVA_test_data.csv\n",
            "Combined stock data saved at: /content/FinancialData/combined_stock_data.csv\n"
          ]
        },
        {
          "output_type": "stream",
          "name": "stderr",
          "text": [
            "\n"
          ]
        }
      ]
    },
    {
      "cell_type": "code",
      "source": [
        "#verify data\n",
        "import pandas as pd\n",
        "\n",
        "# Load and inspect a training file\n",
        "train_data = pd.read_csv('/content/FinancialData/DE_train_data.csv')\n",
        "print(train_data.head())\n",
        "print(train_data.tail())\n",
        "\n",
        "# Load and inspect a test file\n",
        "test_data = pd.read_csv('/content/FinancialData/DE_test_data.csv')\n",
        "print(test_data.head())\n",
        "print(test_data.tail())\n"
      ],
      "metadata": {
        "colab": {
          "base_uri": "https://localhost:8080/"
        },
        "collapsed": true,
        "id": "BoxghjvOpow2",
        "outputId": "3347e065-d09d-442a-8ebb-1d0ef74a97c7"
      },
      "execution_count": null,
      "outputs": [
        {
          "output_type": "stream",
          "name": "stdout",
          "text": [
            "         Date        Open        High         Low       Close   Adj Close  \\\n",
            "0  2019-09-16  164.139999  165.479996  162.899994  164.589996  152.880859   \n",
            "1  2019-09-17  162.990005  164.250000  162.300003  163.990005  152.323532   \n",
            "2  2019-09-18  163.470001  165.630005  162.820007  165.380005  153.614639   \n",
            "3  2019-09-19  165.149994  166.000000  163.699997  164.440002  152.741501   \n",
            "4  2019-09-20  164.830002  166.699997  162.880005  164.070007  152.397827   \n",
            "\n",
            "    Volume  \n",
            "0  1164700  \n",
            "1  1347800  \n",
            "2  1215900  \n",
            "3   986000  \n",
            "4  2942700  \n",
            "            Date        Open        High         Low       Close   Adj Close  \\\n",
            "1001  2023-09-07  411.160004  415.429993  405.399994  411.730011  404.258759   \n",
            "1002  2023-09-08  411.500000  413.179993  399.059998  399.660004  392.407745   \n",
            "1003  2023-09-11  403.299988  404.000000  397.700012  400.369995  393.104919   \n",
            "1004  2023-09-12  399.410004  405.709991  399.299988  402.260010  394.960632   \n",
            "1005  2023-09-13  401.839996  406.899994  399.679993  402.230011  394.931152   \n",
            "\n",
            "       Volume  \n",
            "1001  1028800  \n",
            "1002  1837500  \n",
            "1003  1428200  \n",
            "1004  1127800  \n",
            "1005  1104200  \n",
            "         Date        Open        High         Low       Close   Adj Close  \\\n",
            "0  2023-09-14  406.290009  412.149994  405.130005  411.679993  404.209656   \n",
            "1  2023-09-15  411.790009  414.869995  408.980011  412.109985  404.631866   \n",
            "2  2023-09-18  410.940002  413.600006  407.510010  410.839996  403.384949   \n",
            "3  2023-09-19  402.589996  403.950012  398.410004  398.690002  391.455383   \n",
            "4  2023-09-20  401.730011  409.149994  399.549988  402.329987  395.029297   \n",
            "\n",
            "    Volume  \n",
            "0  1272400  \n",
            "1  1985000  \n",
            "2   969300  \n",
            "3  1957300  \n",
            "4  1289700  \n",
            "           Date        Open        High         Low       Close   Adj Close  \\\n",
            "247  2024-09-09  384.140015  392.000000  383.480011  387.230011  385.868225   \n",
            "248  2024-09-10  388.519989  389.459991  381.679993  387.299988  385.937958   \n",
            "249  2024-09-11  386.670013  388.859985  378.660004  388.589996  387.223419   \n",
            "250  2024-09-12  386.640015  389.059998  383.100006  387.000000  385.639038   \n",
            "251  2024-09-13  389.989990  395.200012  386.420013  394.679993  393.292023   \n",
            "\n",
            "      Volume  \n",
            "247  1215300  \n",
            "248  1041600  \n",
            "249  1160000  \n",
            "250  1068500  \n",
            "251  1126000  \n"
          ]
        }
      ]
    },
    {
      "cell_type": "markdown",
      "source": [
        "Here’s a step-by-step process to achieve federated learning with training data and evaluation on the test dataset:\n",
        "Step 1: Create Sequences from Training Data"
      ],
      "metadata": {
        "id": "CAKNXpGdqZnR"
      }
    },
    {
      "cell_type": "code",
      "source": [
        "#Create Sequences from Training Data"
      ],
      "metadata": {
        "id": "GTY3IHy-qamZ"
      },
      "execution_count": null,
      "outputs": []
    },
    {
      "cell_type": "code",
      "source": [
        "import numpy as np\n",
        "import tensorflow as tf\n",
        "\n",
        "# Define a function to create sequences from training data\n",
        "def create_sequences(data, sequence_length=20):\n",
        "    sequences = []\n",
        "    labels = []\n",
        "\n",
        "    for i in range(len(data) - sequence_length):\n",
        "        seq = data[i:i + sequence_length, :]  # Get the sequence of features\n",
        "        label = data[i + sequence_length, -2]  # Use the 'Close' price as the label\n",
        "        sequences.append(seq)\n",
        "        labels.append(label)\n",
        "\n",
        "    return np.array(sequences), np.array(labels)\n",
        "\n",
        "# Load training data (combine all companies for federated learning)\n",
        "sequence_length = 20\n",
        "train_sequences_list = []\n",
        "train_labels_list = []\n",
        "\n",
        "for ticker in companies.values():\n",
        "    train_file_path = os.path.join(base_dir, f\"{ticker}_train_data.csv\")\n",
        "    train_data = pd.read_csv(train_file_path)[['Open', 'High', 'Low', 'Close', 'Adj Close', 'Volume']].fillna(0).values.astype('float32')\n",
        "\n",
        "    sequences, labels = create_sequences(train_data, sequence_length=sequence_length)\n",
        "    train_sequences_list.append(sequences)\n",
        "    train_labels_list.append(labels)\n",
        "\n",
        "# Combine sequences and labels for federated learning\n",
        "train_sequences = np.concatenate(train_sequences_list, axis=0)\n",
        "train_labels = np.concatenate(train_labels_list, axis=0)\n",
        "\n",
        "print(f\"Training sequences shape: {train_sequences.shape}\")\n",
        "print(f\"Training labels shape: {train_labels.shape}\")\n"
      ],
      "metadata": {
        "colab": {
          "base_uri": "https://localhost:8080/"
        },
        "id": "Yua--Oaopoti",
        "outputId": "8fd8a962-29ae-468d-ad14-ed8cb68f2dc4"
      },
      "execution_count": null,
      "outputs": [
        {
          "output_type": "stream",
          "name": "stdout",
          "text": [
            "Training sequences shape: (4930, 20, 6)\n",
            "Training labels shape: (4930,)\n"
          ]
        }
      ]
    },
    {
      "cell_type": "markdown",
      "source": [
        "**Step 2**: Create Federated Learning Dataset\n",
        "\n",
        "Convert the processed training data into a federated learning dataset format.\n",
        "Code to Create Federated Dataset:"
      ],
      "metadata": {
        "id": "msrPex1Wqium"
      }
    },
    {
      "cell_type": "code",
      "source": [
        "#Create Federated Dataset:"
      ],
      "metadata": {
        "id": "LAStD2BRpoqV"
      },
      "execution_count": null,
      "outputs": []
    },
    {
      "cell_type": "code",
      "source": [
        "# Define a function to create federated data for training\n",
        "def create_federated_data(sequences, labels):\n",
        "    dataset = tf.data.Dataset.from_tensor_slices((sequences, labels))\n",
        "    dataset = dataset.batch(32)  # Batch size\n",
        "    return [dataset]  # Return as a list for federated learning\n",
        "\n",
        "# Create federated training data\n",
        "client_data = create_federated_data(train_sequences, train_labels)\n"
      ],
      "metadata": {
        "id": "UwL1eX6oponE"
      },
      "execution_count": null,
      "outputs": []
    },
    {
      "cell_type": "markdown",
      "source": [
        "**Step 3**: Train the Federated Model\n",
        "Federated Training Code:"
      ],
      "metadata": {
        "id": "F-Y4OfQvquAE"
      }
    },
    {
      "cell_type": "code",
      "source": [
        "# Define the federated learning model\n",
        "def model_fn():\n",
        "    model = tf.keras.Sequential([\n",
        "        tf.keras.layers.LSTM(64, return_sequences=True, input_shape=(sequence_length, 6)),\n",
        "        tf.keras.layers.LSTM(32),\n",
        "        tf.keras.layers.Dense(1)\n",
        "    ])\n",
        "    return tff.learning.models.from_keras_model(\n",
        "        keras_model=model,\n",
        "        input_spec=client_data[0].element_spec,\n",
        "        loss=tf.keras.losses.MeanSquaredError(),\n",
        "        metrics=[tf.keras.metrics.MeanSquaredError()]\n",
        "    )\n",
        "\n",
        "# Define optimizers\n",
        "client_optimizer_fn = tff.learning.optimizers.build_sgdm(learning_rate=0.001)  # Adjusted learning rate\n",
        "server_optimizer_fn = tff.learning.optimizers.build_sgdm(learning_rate=0.5)\n",
        "\n",
        "# Build the federated averaging process\n",
        "iterative_process = tff.learning.algorithms.build_weighted_fed_avg(\n",
        "    model_fn=model_fn,\n",
        "    client_optimizer_fn=client_optimizer_fn,\n",
        "    server_optimizer_fn=server_optimizer_fn\n",
        ")\n",
        "\n",
        "# Train the federated model\n",
        "state = iterative_process.initialize()\n",
        "num_rounds = 100\n",
        "for round_num in range(1, num_rounds + 1):\n",
        "    print(f\"Starting Round {round_num}...\")\n",
        "    state, metrics = iterative_process.next(state, client_data)\n",
        "    print(f\"Round {round_num}, Metrics: {metrics}\")\n"
      ],
      "metadata": {
        "colab": {
          "base_uri": "https://localhost:8080/"
        },
        "id": "iVZVn99Npog1",
        "outputId": "2c38fd57-fb11-4af2-8dd0-d7f2070aa881",
        "collapsed": true
      },
      "execution_count": null,
      "outputs": [
        {
          "output_type": "stream",
          "name": "stdout",
          "text": [
            "Starting Round 1...\n",
            "Round 1, Metrics: OrderedDict([('distributor', ()), ('client_work', OrderedDict([('train', OrderedDict([('mean_squared_error', 9123.818), ('loss', 9179.324), ('num_examples', 4930), ('num_batches', 155)]))])), ('aggregator', OrderedDict([('mean_value', ()), ('mean_weight', ())])), ('finalizer', OrderedDict([('update_non_finite', 0)]))])\n",
            "Starting Round 2...\n",
            "Round 2, Metrics: OrderedDict([('distributor', ()), ('client_work', OrderedDict([('train', OrderedDict([('mean_squared_error', 7866.6387), ('loss', 7914.494), ('num_examples', 4930), ('num_batches', 155)]))])), ('aggregator', OrderedDict([('mean_value', ()), ('mean_weight', ())])), ('finalizer', OrderedDict([('update_non_finite', 0)]))])\n",
            "Starting Round 3...\n",
            "Round 3, Metrics: OrderedDict([('distributor', ()), ('client_work', OrderedDict([('train', OrderedDict([('mean_squared_error', 7599.837), ('loss', 7646.069), ('num_examples', 4930), ('num_batches', 155)]))])), ('aggregator', OrderedDict([('mean_value', ()), ('mean_weight', ())])), ('finalizer', OrderedDict([('update_non_finite', 0)]))])\n",
            "Starting Round 4...\n",
            "Round 4, Metrics: OrderedDict([('distributor', ()), ('client_work', OrderedDict([('train', OrderedDict([('mean_squared_error', 7490.037), ('loss', 7535.6006), ('num_examples', 4930), ('num_batches', 155)]))])), ('aggregator', OrderedDict([('mean_value', ()), ('mean_weight', ())])), ('finalizer', OrderedDict([('update_non_finite', 0)]))])\n",
            "Starting Round 5...\n",
            "Round 5, Metrics: OrderedDict([('distributor', ()), ('client_work', OrderedDict([('train', OrderedDict([('mean_squared_error', 7437.068), ('loss', 7482.309), ('num_examples', 4930), ('num_batches', 155)]))])), ('aggregator', OrderedDict([('mean_value', ()), ('mean_weight', ())])), ('finalizer', OrderedDict([('update_non_finite', 0)]))])\n",
            "Starting Round 6...\n",
            "Round 6, Metrics: OrderedDict([('distributor', ()), ('client_work', OrderedDict([('train', OrderedDict([('mean_squared_error', 7410.955), ('loss', 7456.037), ('num_examples', 4930), ('num_batches', 155)]))])), ('aggregator', OrderedDict([('mean_value', ()), ('mean_weight', ())])), ('finalizer', OrderedDict([('update_non_finite', 0)]))])\n",
            "Starting Round 7...\n",
            "Round 7, Metrics: OrderedDict([('distributor', ()), ('client_work', OrderedDict([('train', OrderedDict([('mean_squared_error', 7397.9346), ('loss', 7442.938), ('num_examples', 4930), ('num_batches', 155)]))])), ('aggregator', OrderedDict([('mean_value', ()), ('mean_weight', ())])), ('finalizer', OrderedDict([('update_non_finite', 0)]))])\n",
            "Starting Round 8...\n",
            "Round 8, Metrics: OrderedDict([('distributor', ()), ('client_work', OrderedDict([('train', OrderedDict([('mean_squared_error', 7391.38), ('loss', 7436.3433), ('num_examples', 4930), ('num_batches', 155)]))])), ('aggregator', OrderedDict([('mean_value', ()), ('mean_weight', ())])), ('finalizer', OrderedDict([('update_non_finite', 0)]))])\n",
            "Starting Round 9...\n",
            "Round 9, Metrics: OrderedDict([('distributor', ()), ('client_work', OrderedDict([('train', OrderedDict([('mean_squared_error', 7388.0283), ('loss', 7432.971), ('num_examples', 4930), ('num_batches', 155)]))])), ('aggregator', OrderedDict([('mean_value', ()), ('mean_weight', ())])), ('finalizer', OrderedDict([('update_non_finite', 0)]))])\n",
            "Starting Round 10...\n",
            "Round 10, Metrics: OrderedDict([('distributor', ()), ('client_work', OrderedDict([('train', OrderedDict([('mean_squared_error', 7386.275), ('loss', 7431.2075), ('num_examples', 4930), ('num_batches', 155)]))])), ('aggregator', OrderedDict([('mean_value', ()), ('mean_weight', ())])), ('finalizer', OrderedDict([('update_non_finite', 0)]))])\n",
            "Starting Round 11...\n",
            "Round 11, Metrics: OrderedDict([('distributor', ()), ('client_work', OrderedDict([('train', OrderedDict([('mean_squared_error', 7385.332), ('loss', 7430.259), ('num_examples', 4930), ('num_batches', 155)]))])), ('aggregator', OrderedDict([('mean_value', ()), ('mean_weight', ())])), ('finalizer', OrderedDict([('update_non_finite', 0)]))])\n",
            "Starting Round 12...\n",
            "Round 12, Metrics: OrderedDict([('distributor', ()), ('client_work', OrderedDict([('train', OrderedDict([('mean_squared_error', 7384.795), ('loss', 7429.7183), ('num_examples', 4930), ('num_batches', 155)]))])), ('aggregator', OrderedDict([('mean_value', ()), ('mean_weight', ())])), ('finalizer', OrderedDict([('update_non_finite', 0)]))])\n",
            "Starting Round 13...\n",
            "Round 13, Metrics: OrderedDict([('distributor', ()), ('client_work', OrderedDict([('train', OrderedDict([('mean_squared_error', 7384.468), ('loss', 7429.389), ('num_examples', 4930), ('num_batches', 155)]))])), ('aggregator', OrderedDict([('mean_value', ()), ('mean_weight', ())])), ('finalizer', OrderedDict([('update_non_finite', 0)]))])\n",
            "Starting Round 14...\n",
            "Round 14, Metrics: OrderedDict([('distributor', ()), ('client_work', OrderedDict([('train', OrderedDict([('mean_squared_error', 7384.246), ('loss', 7429.166), ('num_examples', 4930), ('num_batches', 155)]))])), ('aggregator', OrderedDict([('mean_value', ()), ('mean_weight', ())])), ('finalizer', OrderedDict([('update_non_finite', 0)]))])\n",
            "Starting Round 15...\n",
            "Round 15, Metrics: OrderedDict([('distributor', ()), ('client_work', OrderedDict([('train', OrderedDict([('mean_squared_error', 7384.088), ('loss', 7429.007), ('num_examples', 4930), ('num_batches', 155)]))])), ('aggregator', OrderedDict([('mean_value', ()), ('mean_weight', ())])), ('finalizer', OrderedDict([('update_non_finite', 0)]))])\n",
            "Starting Round 16...\n",
            "Round 16, Metrics: OrderedDict([('distributor', ()), ('client_work', OrderedDict([('train', OrderedDict([('mean_squared_error', 7383.9595), ('loss', 7428.879), ('num_examples', 4930), ('num_batches', 155)]))])), ('aggregator', OrderedDict([('mean_value', ()), ('mean_weight', ())])), ('finalizer', OrderedDict([('update_non_finite', 0)]))])\n",
            "Starting Round 17...\n",
            "Round 17, Metrics: OrderedDict([('distributor', ()), ('client_work', OrderedDict([('train', OrderedDict([('mean_squared_error', 7383.8506), ('loss', 7428.769), ('num_examples', 4930), ('num_batches', 155)]))])), ('aggregator', OrderedDict([('mean_value', ()), ('mean_weight', ())])), ('finalizer', OrderedDict([('update_non_finite', 0)]))])\n",
            "Starting Round 18...\n",
            "Round 18, Metrics: OrderedDict([('distributor', ()), ('client_work', OrderedDict([('train', OrderedDict([('mean_squared_error', 7383.7583), ('loss', 7428.676), ('num_examples', 4930), ('num_batches', 155)]))])), ('aggregator', OrderedDict([('mean_value', ()), ('mean_weight', ())])), ('finalizer', OrderedDict([('update_non_finite', 0)]))])\n",
            "Starting Round 19...\n",
            "Round 19, Metrics: OrderedDict([('distributor', ()), ('client_work', OrderedDict([('train', OrderedDict([('mean_squared_error', 7383.676), ('loss', 7428.5933), ('num_examples', 4930), ('num_batches', 155)]))])), ('aggregator', OrderedDict([('mean_value', ()), ('mean_weight', ())])), ('finalizer', OrderedDict([('update_non_finite', 0)]))])\n",
            "Starting Round 20...\n",
            "Round 20, Metrics: OrderedDict([('distributor', ()), ('client_work', OrderedDict([('train', OrderedDict([('mean_squared_error', 7383.595), ('loss', 7428.512), ('num_examples', 4930), ('num_batches', 155)]))])), ('aggregator', OrderedDict([('mean_value', ()), ('mean_weight', ())])), ('finalizer', OrderedDict([('update_non_finite', 0)]))])\n",
            "Starting Round 21...\n",
            "Round 21, Metrics: OrderedDict([('distributor', ()), ('client_work', OrderedDict([('train', OrderedDict([('mean_squared_error', 7383.5234), ('loss', 7428.44), ('num_examples', 4930), ('num_batches', 155)]))])), ('aggregator', OrderedDict([('mean_value', ()), ('mean_weight', ())])), ('finalizer', OrderedDict([('update_non_finite', 0)]))])\n",
            "Starting Round 22...\n",
            "Round 22, Metrics: OrderedDict([('distributor', ()), ('client_work', OrderedDict([('train', OrderedDict([('mean_squared_error', 7383.455), ('loss', 7428.3706), ('num_examples', 4930), ('num_batches', 155)]))])), ('aggregator', OrderedDict([('mean_value', ()), ('mean_weight', ())])), ('finalizer', OrderedDict([('update_non_finite', 0)]))])\n",
            "Starting Round 23...\n",
            "Round 23, Metrics: OrderedDict([('distributor', ()), ('client_work', OrderedDict([('train', OrderedDict([('mean_squared_error', 7383.3936), ('loss', 7428.309), ('num_examples', 4930), ('num_batches', 155)]))])), ('aggregator', OrderedDict([('mean_value', ()), ('mean_weight', ())])), ('finalizer', OrderedDict([('update_non_finite', 0)]))])\n",
            "Starting Round 24...\n",
            "Round 24, Metrics: OrderedDict([('distributor', ()), ('client_work', OrderedDict([('train', OrderedDict([('mean_squared_error', 7383.337), ('loss', 7428.2524), ('num_examples', 4930), ('num_batches', 155)]))])), ('aggregator', OrderedDict([('mean_value', ()), ('mean_weight', ())])), ('finalizer', OrderedDict([('update_non_finite', 0)]))])\n",
            "Starting Round 25...\n",
            "Round 25, Metrics: OrderedDict([('distributor', ()), ('client_work', OrderedDict([('train', OrderedDict([('mean_squared_error', 7383.282), ('loss', 7428.1973), ('num_examples', 4930), ('num_batches', 155)]))])), ('aggregator', OrderedDict([('mean_value', ()), ('mean_weight', ())])), ('finalizer', OrderedDict([('update_non_finite', 0)]))])\n",
            "Starting Round 26...\n",
            "Round 26, Metrics: OrderedDict([('distributor', ()), ('client_work', OrderedDict([('train', OrderedDict([('mean_squared_error', 7383.2314), ('loss', 7428.146), ('num_examples', 4930), ('num_batches', 155)]))])), ('aggregator', OrderedDict([('mean_value', ()), ('mean_weight', ())])), ('finalizer', OrderedDict([('update_non_finite', 0)]))])\n",
            "Starting Round 27...\n",
            "Round 27, Metrics: OrderedDict([('distributor', ()), ('client_work', OrderedDict([('train', OrderedDict([('mean_squared_error', 7383.183), ('loss', 7428.097), ('num_examples', 4930), ('num_batches', 155)]))])), ('aggregator', OrderedDict([('mean_value', ()), ('mean_weight', ())])), ('finalizer', OrderedDict([('update_non_finite', 0)]))])\n",
            "Starting Round 28...\n",
            "Round 28, Metrics: OrderedDict([('distributor', ()), ('client_work', OrderedDict([('train', OrderedDict([('mean_squared_error', 7383.1377), ('loss', 7428.052), ('num_examples', 4930), ('num_batches', 155)]))])), ('aggregator', OrderedDict([('mean_value', ()), ('mean_weight', ())])), ('finalizer', OrderedDict([('update_non_finite', 0)]))])\n",
            "Starting Round 29...\n",
            "Round 29, Metrics: OrderedDict([('distributor', ()), ('client_work', OrderedDict([('train', OrderedDict([('mean_squared_error', 7383.094), ('loss', 7428.0083), ('num_examples', 4930), ('num_batches', 155)]))])), ('aggregator', OrderedDict([('mean_value', ()), ('mean_weight', ())])), ('finalizer', OrderedDict([('update_non_finite', 0)]))])\n",
            "Starting Round 30...\n",
            "Round 30, Metrics: OrderedDict([('distributor', ()), ('client_work', OrderedDict([('train', OrderedDict([('mean_squared_error', 7383.0547), ('loss', 7427.9683), ('num_examples', 4930), ('num_batches', 155)]))])), ('aggregator', OrderedDict([('mean_value', ()), ('mean_weight', ())])), ('finalizer', OrderedDict([('update_non_finite', 0)]))])\n",
            "Starting Round 31...\n",
            "Round 31, Metrics: OrderedDict([('distributor', ()), ('client_work', OrderedDict([('train', OrderedDict([('mean_squared_error', 7383.021), ('loss', 7427.934), ('num_examples', 4930), ('num_batches', 155)]))])), ('aggregator', OrderedDict([('mean_value', ()), ('mean_weight', ())])), ('finalizer', OrderedDict([('update_non_finite', 0)]))])\n",
            "Starting Round 32...\n",
            "Round 32, Metrics: OrderedDict([('distributor', ()), ('client_work', OrderedDict([('train', OrderedDict([('mean_squared_error', 7382.988), ('loss', 7427.901), ('num_examples', 4930), ('num_batches', 155)]))])), ('aggregator', OrderedDict([('mean_value', ()), ('mean_weight', ())])), ('finalizer', OrderedDict([('update_non_finite', 0)]))])\n",
            "Starting Round 33...\n",
            "Round 33, Metrics: OrderedDict([('distributor', ()), ('client_work', OrderedDict([('train', OrderedDict([('mean_squared_error', 7382.953), ('loss', 7427.866), ('num_examples', 4930), ('num_batches', 155)]))])), ('aggregator', OrderedDict([('mean_value', ()), ('mean_weight', ())])), ('finalizer', OrderedDict([('update_non_finite', 0)]))])\n",
            "Starting Round 34...\n",
            "Round 34, Metrics: OrderedDict([('distributor', ()), ('client_work', OrderedDict([('train', OrderedDict([('mean_squared_error', 7382.925), ('loss', 7427.838), ('num_examples', 4930), ('num_batches', 155)]))])), ('aggregator', OrderedDict([('mean_value', ()), ('mean_weight', ())])), ('finalizer', OrderedDict([('update_non_finite', 0)]))])\n",
            "Starting Round 35...\n",
            "Round 35, Metrics: OrderedDict([('distributor', ()), ('client_work', OrderedDict([('train', OrderedDict([('mean_squared_error', 7382.896), ('loss', 7427.8086), ('num_examples', 4930), ('num_batches', 155)]))])), ('aggregator', OrderedDict([('mean_value', ()), ('mean_weight', ())])), ('finalizer', OrderedDict([('update_non_finite', 0)]))])\n",
            "Starting Round 36...\n",
            "Round 36, Metrics: OrderedDict([('distributor', ()), ('client_work', OrderedDict([('train', OrderedDict([('mean_squared_error', 7382.8667), ('loss', 7427.7793), ('num_examples', 4930), ('num_batches', 155)]))])), ('aggregator', OrderedDict([('mean_value', ()), ('mean_weight', ())])), ('finalizer', OrderedDict([('update_non_finite', 0)]))])\n",
            "Starting Round 37...\n",
            "Round 37, Metrics: OrderedDict([('distributor', ()), ('client_work', OrderedDict([('train', OrderedDict([('mean_squared_error', 7382.837), ('loss', 7427.7495), ('num_examples', 4930), ('num_batches', 155)]))])), ('aggregator', OrderedDict([('mean_value', ()), ('mean_weight', ())])), ('finalizer', OrderedDict([('update_non_finite', 0)]))])\n",
            "Starting Round 38...\n",
            "Round 38, Metrics: OrderedDict([('distributor', ()), ('client_work', OrderedDict([('train', OrderedDict([('mean_squared_error', 7382.812), ('loss', 7427.724), ('num_examples', 4930), ('num_batches', 155)]))])), ('aggregator', OrderedDict([('mean_value', ()), ('mean_weight', ())])), ('finalizer', OrderedDict([('update_non_finite', 0)]))])\n",
            "Starting Round 39...\n",
            "Round 39, Metrics: OrderedDict([('distributor', ()), ('client_work', OrderedDict([('train', OrderedDict([('mean_squared_error', 7382.786), ('loss', 7427.698), ('num_examples', 4930), ('num_batches', 155)]))])), ('aggregator', OrderedDict([('mean_value', ()), ('mean_weight', ())])), ('finalizer', OrderedDict([('update_non_finite', 0)]))])\n",
            "Starting Round 40...\n",
            "Round 40, Metrics: OrderedDict([('distributor', ()), ('client_work', OrderedDict([('train', OrderedDict([('mean_squared_error', 7382.7637), ('loss', 7427.6753), ('num_examples', 4930), ('num_batches', 155)]))])), ('aggregator', OrderedDict([('mean_value', ()), ('mean_weight', ())])), ('finalizer', OrderedDict([('update_non_finite', 0)]))])\n",
            "Starting Round 41...\n",
            "Round 41, Metrics: OrderedDict([('distributor', ()), ('client_work', OrderedDict([('train', OrderedDict([('mean_squared_error', 7382.7363), ('loss', 7427.648), ('num_examples', 4930), ('num_batches', 155)]))])), ('aggregator', OrderedDict([('mean_value', ()), ('mean_weight', ())])), ('finalizer', OrderedDict([('update_non_finite', 0)]))])\n",
            "Starting Round 42...\n",
            "Round 42, Metrics: OrderedDict([('distributor', ()), ('client_work', OrderedDict([('train', OrderedDict([('mean_squared_error', 7382.72), ('loss', 7427.632), ('num_examples', 4930), ('num_batches', 155)]))])), ('aggregator', OrderedDict([('mean_value', ()), ('mean_weight', ())])), ('finalizer', OrderedDict([('update_non_finite', 0)]))])\n",
            "Starting Round 43...\n",
            "Round 43, Metrics: OrderedDict([('distributor', ()), ('client_work', OrderedDict([('train', OrderedDict([('mean_squared_error', 7382.7), ('loss', 7427.6113), ('num_examples', 4930), ('num_batches', 155)]))])), ('aggregator', OrderedDict([('mean_value', ()), ('mean_weight', ())])), ('finalizer', OrderedDict([('update_non_finite', 0)]))])\n",
            "Starting Round 44...\n",
            "Round 44, Metrics: OrderedDict([('distributor', ()), ('client_work', OrderedDict([('train', OrderedDict([('mean_squared_error', 7382.6772), ('loss', 7427.589), ('num_examples', 4930), ('num_batches', 155)]))])), ('aggregator', OrderedDict([('mean_value', ()), ('mean_weight', ())])), ('finalizer', OrderedDict([('update_non_finite', 0)]))])\n",
            "Starting Round 45...\n",
            "Round 45, Metrics: OrderedDict([('distributor', ()), ('client_work', OrderedDict([('train', OrderedDict([('mean_squared_error', 7382.661), ('loss', 7427.5723), ('num_examples', 4930), ('num_batches', 155)]))])), ('aggregator', OrderedDict([('mean_value', ()), ('mean_weight', ())])), ('finalizer', OrderedDict([('update_non_finite', 0)]))])\n",
            "Starting Round 46...\n",
            "Round 46, Metrics: OrderedDict([('distributor', ()), ('client_work', OrderedDict([('train', OrderedDict([('mean_squared_error', 7382.642), ('loss', 7427.5527), ('num_examples', 4930), ('num_batches', 155)]))])), ('aggregator', OrderedDict([('mean_value', ()), ('mean_weight', ())])), ('finalizer', OrderedDict([('update_non_finite', 0)]))])\n",
            "Starting Round 47...\n",
            "Round 47, Metrics: OrderedDict([('distributor', ()), ('client_work', OrderedDict([('train', OrderedDict([('mean_squared_error', 7382.624), ('loss', 7427.535), ('num_examples', 4930), ('num_batches', 155)]))])), ('aggregator', OrderedDict([('mean_value', ()), ('mean_weight', ())])), ('finalizer', OrderedDict([('update_non_finite', 0)]))])\n",
            "Starting Round 48...\n",
            "Round 48, Metrics: OrderedDict([('distributor', ()), ('client_work', OrderedDict([('train', OrderedDict([('mean_squared_error', 7382.6064), ('loss', 7427.517), ('num_examples', 4930), ('num_batches', 155)]))])), ('aggregator', OrderedDict([('mean_value', ()), ('mean_weight', ())])), ('finalizer', OrderedDict([('update_non_finite', 0)]))])\n",
            "Starting Round 49...\n",
            "Round 49, Metrics: OrderedDict([('distributor', ()), ('client_work', OrderedDict([('train', OrderedDict([('mean_squared_error', 7382.592), ('loss', 7427.5024), ('num_examples', 4930), ('num_batches', 155)]))])), ('aggregator', OrderedDict([('mean_value', ()), ('mean_weight', ())])), ('finalizer', OrderedDict([('update_non_finite', 0)]))])\n",
            "Starting Round 50...\n",
            "Round 50, Metrics: OrderedDict([('distributor', ()), ('client_work', OrderedDict([('train', OrderedDict([('mean_squared_error', 7382.58), ('loss', 7427.49), ('num_examples', 4930), ('num_batches', 155)]))])), ('aggregator', OrderedDict([('mean_value', ()), ('mean_weight', ())])), ('finalizer', OrderedDict([('update_non_finite', 0)]))])\n",
            "Starting Round 51...\n",
            "Round 51, Metrics: OrderedDict([('distributor', ()), ('client_work', OrderedDict([('train', OrderedDict([('mean_squared_error', 7382.5654), ('loss', 7427.476), ('num_examples', 4930), ('num_batches', 155)]))])), ('aggregator', OrderedDict([('mean_value', ()), ('mean_weight', ())])), ('finalizer', OrderedDict([('update_non_finite', 0)]))])\n",
            "Starting Round 52...\n",
            "Round 52, Metrics: OrderedDict([('distributor', ()), ('client_work', OrderedDict([('train', OrderedDict([('mean_squared_error', 7382.551), ('loss', 7427.4614), ('num_examples', 4930), ('num_batches', 155)]))])), ('aggregator', OrderedDict([('mean_value', ()), ('mean_weight', ())])), ('finalizer', OrderedDict([('update_non_finite', 0)]))])\n",
            "Starting Round 53...\n",
            "Round 53, Metrics: OrderedDict([('distributor', ()), ('client_work', OrderedDict([('train', OrderedDict([('mean_squared_error', 7382.5386), ('loss', 7427.449), ('num_examples', 4930), ('num_batches', 155)]))])), ('aggregator', OrderedDict([('mean_value', ()), ('mean_weight', ())])), ('finalizer', OrderedDict([('update_non_finite', 0)]))])\n",
            "Starting Round 54...\n",
            "Round 54, Metrics: OrderedDict([('distributor', ()), ('client_work', OrderedDict([('train', OrderedDict([('mean_squared_error', 7382.5273), ('loss', 7427.4375), ('num_examples', 4930), ('num_batches', 155)]))])), ('aggregator', OrderedDict([('mean_value', ()), ('mean_weight', ())])), ('finalizer', OrderedDict([('update_non_finite', 0)]))])\n",
            "Starting Round 55...\n",
            "Round 55, Metrics: OrderedDict([('distributor', ()), ('client_work', OrderedDict([('train', OrderedDict([('mean_squared_error', 7382.515), ('loss', 7427.426), ('num_examples', 4930), ('num_batches', 155)]))])), ('aggregator', OrderedDict([('mean_value', ()), ('mean_weight', ())])), ('finalizer', OrderedDict([('update_non_finite', 0)]))])\n",
            "Starting Round 56...\n",
            "Round 56, Metrics: OrderedDict([('distributor', ()), ('client_work', OrderedDict([('train', OrderedDict([('mean_squared_error', 7382.504), ('loss', 7427.414), ('num_examples', 4930), ('num_batches', 155)]))])), ('aggregator', OrderedDict([('mean_value', ()), ('mean_weight', ())])), ('finalizer', OrderedDict([('update_non_finite', 0)]))])\n",
            "Starting Round 57...\n",
            "Round 57, Metrics: OrderedDict([('distributor', ()), ('client_work', OrderedDict([('train', OrderedDict([('mean_squared_error', 7382.4927), ('loss', 7427.403), ('num_examples', 4930), ('num_batches', 155)]))])), ('aggregator', OrderedDict([('mean_value', ()), ('mean_weight', ())])), ('finalizer', OrderedDict([('update_non_finite', 0)]))])\n",
            "Starting Round 58...\n",
            "Round 58, Metrics: OrderedDict([('distributor', ()), ('client_work', OrderedDict([('train', OrderedDict([('mean_squared_error', 7382.48), ('loss', 7427.3896), ('num_examples', 4930), ('num_batches', 155)]))])), ('aggregator', OrderedDict([('mean_value', ()), ('mean_weight', ())])), ('finalizer', OrderedDict([('update_non_finite', 0)]))])\n",
            "Starting Round 59...\n",
            "Round 59, Metrics: OrderedDict([('distributor', ()), ('client_work', OrderedDict([('train', OrderedDict([('mean_squared_error', 7382.47), ('loss', 7427.38), ('num_examples', 4930), ('num_batches', 155)]))])), ('aggregator', OrderedDict([('mean_value', ()), ('mean_weight', ())])), ('finalizer', OrderedDict([('update_non_finite', 0)]))])\n",
            "Starting Round 60...\n",
            "Round 60, Metrics: OrderedDict([('distributor', ()), ('client_work', OrderedDict([('train', OrderedDict([('mean_squared_error', 7382.4604), ('loss', 7427.3706), ('num_examples', 4930), ('num_batches', 155)]))])), ('aggregator', OrderedDict([('mean_value', ()), ('mean_weight', ())])), ('finalizer', OrderedDict([('update_non_finite', 0)]))])\n",
            "Starting Round 61...\n",
            "Round 61, Metrics: OrderedDict([('distributor', ()), ('client_work', OrderedDict([('train', OrderedDict([('mean_squared_error', 7382.4517), ('loss', 7427.3613), ('num_examples', 4930), ('num_batches', 155)]))])), ('aggregator', OrderedDict([('mean_value', ()), ('mean_weight', ())])), ('finalizer', OrderedDict([('update_non_finite', 0)]))])\n",
            "Starting Round 62...\n",
            "Round 62, Metrics: OrderedDict([('distributor', ()), ('client_work', OrderedDict([('train', OrderedDict([('mean_squared_error', 7382.443), ('loss', 7427.3525), ('num_examples', 4930), ('num_batches', 155)]))])), ('aggregator', OrderedDict([('mean_value', ()), ('mean_weight', ())])), ('finalizer', OrderedDict([('update_non_finite', 0)]))])\n",
            "Starting Round 63...\n",
            "Round 63, Metrics: OrderedDict([('distributor', ()), ('client_work', OrderedDict([('train', OrderedDict([('mean_squared_error', 7382.433), ('loss', 7427.343), ('num_examples', 4930), ('num_batches', 155)]))])), ('aggregator', OrderedDict([('mean_value', ()), ('mean_weight', ())])), ('finalizer', OrderedDict([('update_non_finite', 0)]))])\n",
            "Starting Round 64...\n",
            "Round 64, Metrics: OrderedDict([('distributor', ()), ('client_work', OrderedDict([('train', OrderedDict([('mean_squared_error', 7382.426), ('loss', 7427.3354), ('num_examples', 4930), ('num_batches', 155)]))])), ('aggregator', OrderedDict([('mean_value', ()), ('mean_weight', ())])), ('finalizer', OrderedDict([('update_non_finite', 0)]))])\n",
            "Starting Round 65...\n",
            "Round 65, Metrics: OrderedDict([('distributor', ()), ('client_work', OrderedDict([('train', OrderedDict([('mean_squared_error', 7382.4185), ('loss', 7427.328), ('num_examples', 4930), ('num_batches', 155)]))])), ('aggregator', OrderedDict([('mean_value', ()), ('mean_weight', ())])), ('finalizer', OrderedDict([('update_non_finite', 0)]))])\n",
            "Starting Round 66...\n",
            "Round 66, Metrics: OrderedDict([('distributor', ()), ('client_work', OrderedDict([('train', OrderedDict([('mean_squared_error', 7382.411), ('loss', 7427.321), ('num_examples', 4930), ('num_batches', 155)]))])), ('aggregator', OrderedDict([('mean_value', ()), ('mean_weight', ())])), ('finalizer', OrderedDict([('update_non_finite', 0)]))])\n",
            "Starting Round 67...\n",
            "Round 67, Metrics: OrderedDict([('distributor', ()), ('client_work', OrderedDict([('train', OrderedDict([('mean_squared_error', 7382.404), ('loss', 7427.3135), ('num_examples', 4930), ('num_batches', 155)]))])), ('aggregator', OrderedDict([('mean_value', ()), ('mean_weight', ())])), ('finalizer', OrderedDict([('update_non_finite', 0)]))])\n",
            "Starting Round 68...\n",
            "Round 68, Metrics: OrderedDict([('distributor', ()), ('client_work', OrderedDict([('train', OrderedDict([('mean_squared_error', 7382.3975), ('loss', 7427.307), ('num_examples', 4930), ('num_batches', 155)]))])), ('aggregator', OrderedDict([('mean_value', ()), ('mean_weight', ())])), ('finalizer', OrderedDict([('update_non_finite', 0)]))])\n",
            "Starting Round 69...\n",
            "Round 69, Metrics: OrderedDict([('distributor', ()), ('client_work', OrderedDict([('train', OrderedDict([('mean_squared_error', 7382.3896), ('loss', 7427.299), ('num_examples', 4930), ('num_batches', 155)]))])), ('aggregator', OrderedDict([('mean_value', ()), ('mean_weight', ())])), ('finalizer', OrderedDict([('update_non_finite', 0)]))])\n",
            "Starting Round 70...\n",
            "Round 70, Metrics: OrderedDict([('distributor', ()), ('client_work', OrderedDict([('train', OrderedDict([('mean_squared_error', 7382.384), ('loss', 7427.2935), ('num_examples', 4930), ('num_batches', 155)]))])), ('aggregator', OrderedDict([('mean_value', ()), ('mean_weight', ())])), ('finalizer', OrderedDict([('update_non_finite', 0)]))])\n",
            "Starting Round 71...\n",
            "Round 71, Metrics: OrderedDict([('distributor', ()), ('client_work', OrderedDict([('train', OrderedDict([('mean_squared_error', 7382.3784), ('loss', 7427.2876), ('num_examples', 4930), ('num_batches', 155)]))])), ('aggregator', OrderedDict([('mean_value', ()), ('mean_weight', ())])), ('finalizer', OrderedDict([('update_non_finite', 0)]))])\n",
            "Starting Round 72...\n",
            "Round 72, Metrics: OrderedDict([('distributor', ()), ('client_work', OrderedDict([('train', OrderedDict([('mean_squared_error', 7382.3735), ('loss', 7427.2827), ('num_examples', 4930), ('num_batches', 155)]))])), ('aggregator', OrderedDict([('mean_value', ()), ('mean_weight', ())])), ('finalizer', OrderedDict([('update_non_finite', 0)]))])\n",
            "Starting Round 73...\n",
            "Round 73, Metrics: OrderedDict([('distributor', ()), ('client_work', OrderedDict([('train', OrderedDict([('mean_squared_error', 7382.3667), ('loss', 7427.2764), ('num_examples', 4930), ('num_batches', 155)]))])), ('aggregator', OrderedDict([('mean_value', ()), ('mean_weight', ())])), ('finalizer', OrderedDict([('update_non_finite', 0)]))])\n",
            "Starting Round 74...\n",
            "Round 74, Metrics: OrderedDict([('distributor', ()), ('client_work', OrderedDict([('train', OrderedDict([('mean_squared_error', 7382.363), ('loss', 7427.272), ('num_examples', 4930), ('num_batches', 155)]))])), ('aggregator', OrderedDict([('mean_value', ()), ('mean_weight', ())])), ('finalizer', OrderedDict([('update_non_finite', 0)]))])\n",
            "Starting Round 75...\n",
            "Round 75, Metrics: OrderedDict([('distributor', ()), ('client_work', OrderedDict([('train', OrderedDict([('mean_squared_error', 7382.3574), ('loss', 7427.2666), ('num_examples', 4930), ('num_batches', 155)]))])), ('aggregator', OrderedDict([('mean_value', ()), ('mean_weight', ())])), ('finalizer', OrderedDict([('update_non_finite', 0)]))])\n",
            "Starting Round 76...\n",
            "Round 76, Metrics: OrderedDict([('distributor', ()), ('client_work', OrderedDict([('train', OrderedDict([('mean_squared_error', 7382.3506), ('loss', 7427.2603), ('num_examples', 4930), ('num_batches', 155)]))])), ('aggregator', OrderedDict([('mean_value', ()), ('mean_weight', ())])), ('finalizer', OrderedDict([('update_non_finite', 0)]))])\n",
            "Starting Round 77...\n",
            "Round 77, Metrics: OrderedDict([('distributor', ()), ('client_work', OrderedDict([('train', OrderedDict([('mean_squared_error', 7382.3438), ('loss', 7427.253), ('num_examples', 4930), ('num_batches', 155)]))])), ('aggregator', OrderedDict([('mean_value', ()), ('mean_weight', ())])), ('finalizer', OrderedDict([('update_non_finite', 0)]))])\n",
            "Starting Round 78...\n",
            "Round 78, Metrics: OrderedDict([('distributor', ()), ('client_work', OrderedDict([('train', OrderedDict([('mean_squared_error', 7382.3394), ('loss', 7427.2485), ('num_examples', 4930), ('num_batches', 155)]))])), ('aggregator', OrderedDict([('mean_value', ()), ('mean_weight', ())])), ('finalizer', OrderedDict([('update_non_finite', 0)]))])\n",
            "Starting Round 79...\n",
            "Round 79, Metrics: OrderedDict([('distributor', ()), ('client_work', OrderedDict([('train', OrderedDict([('mean_squared_error', 7382.3364), ('loss', 7427.2456), ('num_examples', 4930), ('num_batches', 155)]))])), ('aggregator', OrderedDict([('mean_value', ()), ('mean_weight', ())])), ('finalizer', OrderedDict([('update_non_finite', 0)]))])\n",
            "Starting Round 80...\n",
            "Round 80, Metrics: OrderedDict([('distributor', ()), ('client_work', OrderedDict([('train', OrderedDict([('mean_squared_error', 7382.3306), ('loss', 7427.2397), ('num_examples', 4930), ('num_batches', 155)]))])), ('aggregator', OrderedDict([('mean_value', ()), ('mean_weight', ())])), ('finalizer', OrderedDict([('update_non_finite', 0)]))])\n",
            "Starting Round 81...\n",
            "Round 81, Metrics: OrderedDict([('distributor', ()), ('client_work', OrderedDict([('train', OrderedDict([('mean_squared_error', 7382.3257), ('loss', 7427.235), ('num_examples', 4930), ('num_batches', 155)]))])), ('aggregator', OrderedDict([('mean_value', ()), ('mean_weight', ())])), ('finalizer', OrderedDict([('update_non_finite', 0)]))])\n",
            "Starting Round 82...\n",
            "Round 82, Metrics: OrderedDict([('distributor', ()), ('client_work', OrderedDict([('train', OrderedDict([('mean_squared_error', 7382.322), ('loss', 7427.231), ('num_examples', 4930), ('num_batches', 155)]))])), ('aggregator', OrderedDict([('mean_value', ()), ('mean_weight', ())])), ('finalizer', OrderedDict([('update_non_finite', 0)]))])\n",
            "Starting Round 83...\n",
            "Round 83, Metrics: OrderedDict([('distributor', ()), ('client_work', OrderedDict([('train', OrderedDict([('mean_squared_error', 7382.3184), ('loss', 7427.2275), ('num_examples', 4930), ('num_batches', 155)]))])), ('aggregator', OrderedDict([('mean_value', ()), ('mean_weight', ())])), ('finalizer', OrderedDict([('update_non_finite', 0)]))])\n",
            "Starting Round 84...\n",
            "Round 84, Metrics: OrderedDict([('distributor', ()), ('client_work', OrderedDict([('train', OrderedDict([('mean_squared_error', 7382.3145), ('loss', 7427.2236), ('num_examples', 4930), ('num_batches', 155)]))])), ('aggregator', OrderedDict([('mean_value', ()), ('mean_weight', ())])), ('finalizer', OrderedDict([('update_non_finite', 0)]))])\n",
            "Starting Round 85...\n",
            "Round 85, Metrics: OrderedDict([('distributor', ()), ('client_work', OrderedDict([('train', OrderedDict([('mean_squared_error', 7382.3096), ('loss', 7427.2188), ('num_examples', 4930), ('num_batches', 155)]))])), ('aggregator', OrderedDict([('mean_value', ()), ('mean_weight', ())])), ('finalizer', OrderedDict([('update_non_finite', 0)]))])\n",
            "Starting Round 86...\n",
            "Round 86, Metrics: OrderedDict([('distributor', ()), ('client_work', OrderedDict([('train', OrderedDict([('mean_squared_error', 7382.3066), ('loss', 7427.2153), ('num_examples', 4930), ('num_batches', 155)]))])), ('aggregator', OrderedDict([('mean_value', ()), ('mean_weight', ())])), ('finalizer', OrderedDict([('update_non_finite', 0)]))])\n",
            "Starting Round 87...\n",
            "Round 87, Metrics: OrderedDict([('distributor', ()), ('client_work', OrderedDict([('train', OrderedDict([('mean_squared_error', 7382.302), ('loss', 7427.2104), ('num_examples', 4930), ('num_batches', 155)]))])), ('aggregator', OrderedDict([('mean_value', ()), ('mean_weight', ())])), ('finalizer', OrderedDict([('update_non_finite', 0)]))])\n",
            "Starting Round 88...\n",
            "Round 88, Metrics: OrderedDict([('distributor', ()), ('client_work', OrderedDict([('train', OrderedDict([('mean_squared_error', 7382.2974), ('loss', 7427.2065), ('num_examples', 4930), ('num_batches', 155)]))])), ('aggregator', OrderedDict([('mean_value', ()), ('mean_weight', ())])), ('finalizer', OrderedDict([('update_non_finite', 0)]))])\n",
            "Starting Round 89...\n",
            "Round 89, Metrics: OrderedDict([('distributor', ()), ('client_work', OrderedDict([('train', OrderedDict([('mean_squared_error', 7382.2944), ('loss', 7427.203), ('num_examples', 4930), ('num_batches', 155)]))])), ('aggregator', OrderedDict([('mean_value', ()), ('mean_weight', ())])), ('finalizer', OrderedDict([('update_non_finite', 0)]))])\n",
            "Starting Round 90...\n",
            "Round 90, Metrics: OrderedDict([('distributor', ()), ('client_work', OrderedDict([('train', OrderedDict([('mean_squared_error', 7382.2905), ('loss', 7427.199), ('num_examples', 4930), ('num_batches', 155)]))])), ('aggregator', OrderedDict([('mean_value', ()), ('mean_weight', ())])), ('finalizer', OrderedDict([('update_non_finite', 0)]))])\n",
            "Starting Round 91...\n",
            "Round 91, Metrics: OrderedDict([('distributor', ()), ('client_work', OrderedDict([('train', OrderedDict([('mean_squared_error', 7382.288), ('loss', 7427.197), ('num_examples', 4930), ('num_batches', 155)]))])), ('aggregator', OrderedDict([('mean_value', ()), ('mean_weight', ())])), ('finalizer', OrderedDict([('update_non_finite', 0)]))])\n",
            "Starting Round 92...\n",
            "Round 92, Metrics: OrderedDict([('distributor', ()), ('client_work', OrderedDict([('train', OrderedDict([('mean_squared_error', 7382.2856), ('loss', 7427.1943), ('num_examples', 4930), ('num_batches', 155)]))])), ('aggregator', OrderedDict([('mean_value', ()), ('mean_weight', ())])), ('finalizer', OrderedDict([('update_non_finite', 0)]))])\n",
            "Starting Round 93...\n",
            "Round 93, Metrics: OrderedDict([('distributor', ()), ('client_work', OrderedDict([('train', OrderedDict([('mean_squared_error', 7382.283), ('loss', 7427.192), ('num_examples', 4930), ('num_batches', 155)]))])), ('aggregator', OrderedDict([('mean_value', ()), ('mean_weight', ())])), ('finalizer', OrderedDict([('update_non_finite', 0)]))])\n",
            "Starting Round 94...\n",
            "Round 94, Metrics: OrderedDict([('distributor', ()), ('client_work', OrderedDict([('train', OrderedDict([('mean_squared_error', 7382.2773), ('loss', 7427.186), ('num_examples', 4930), ('num_batches', 155)]))])), ('aggregator', OrderedDict([('mean_value', ()), ('mean_weight', ())])), ('finalizer', OrderedDict([('update_non_finite', 0)]))])\n",
            "Starting Round 95...\n",
            "Round 95, Metrics: OrderedDict([('distributor', ()), ('client_work', OrderedDict([('train', OrderedDict([('mean_squared_error', 7382.276), ('loss', 7427.1846), ('num_examples', 4930), ('num_batches', 155)]))])), ('aggregator', OrderedDict([('mean_value', ()), ('mean_weight', ())])), ('finalizer', OrderedDict([('update_non_finite', 0)]))])\n",
            "Starting Round 96...\n",
            "Round 96, Metrics: OrderedDict([('distributor', ()), ('client_work', OrderedDict([('train', OrderedDict([('mean_squared_error', 7382.275), ('loss', 7427.1836), ('num_examples', 4930), ('num_batches', 155)]))])), ('aggregator', OrderedDict([('mean_value', ()), ('mean_weight', ())])), ('finalizer', OrderedDict([('update_non_finite', 0)]))])\n",
            "Starting Round 97...\n",
            "Round 97, Metrics: OrderedDict([('distributor', ()), ('client_work', OrderedDict([('train', OrderedDict([('mean_squared_error', 7382.2734), ('loss', 7427.182), ('num_examples', 4930), ('num_batches', 155)]))])), ('aggregator', OrderedDict([('mean_value', ()), ('mean_weight', ())])), ('finalizer', OrderedDict([('update_non_finite', 0)]))])\n",
            "Starting Round 98...\n",
            "Round 98, Metrics: OrderedDict([('distributor', ()), ('client_work', OrderedDict([('train', OrderedDict([('mean_squared_error', 7382.271), ('loss', 7427.1797), ('num_examples', 4930), ('num_batches', 155)]))])), ('aggregator', OrderedDict([('mean_value', ()), ('mean_weight', ())])), ('finalizer', OrderedDict([('update_non_finite', 0)]))])\n",
            "Starting Round 99...\n",
            "Round 99, Metrics: OrderedDict([('distributor', ()), ('client_work', OrderedDict([('train', OrderedDict([('mean_squared_error', 7382.2686), ('loss', 7427.1772), ('num_examples', 4930), ('num_batches', 155)]))])), ('aggregator', OrderedDict([('mean_value', ()), ('mean_weight', ())])), ('finalizer', OrderedDict([('update_non_finite', 0)]))])\n",
            "Starting Round 100...\n",
            "Round 100, Metrics: OrderedDict([('distributor', ()), ('client_work', OrderedDict([('train', OrderedDict([('mean_squared_error', 7382.266), ('loss', 7427.175), ('num_examples', 4930), ('num_batches', 155)]))])), ('aggregator', OrderedDict([('mean_value', ()), ('mean_weight', ())])), ('finalizer', OrderedDict([('update_non_finite', 0)]))])\n"
          ]
        }
      ]
    },
    {
      "cell_type": "code",
      "source": [],
      "metadata": {
        "id": "hMfIfRsUwqD6"
      },
      "execution_count": null,
      "outputs": []
    },
    {
      "cell_type": "markdown",
      "source": [
        "Steps to Improve Model Performance\n",
        "1. Adjust the Learning Rate\n",
        "\n",
        "    Client Learning Rate (0.001): This seems reasonable but might benefit from further tuning. Try a slightly lower rate (0.0005) to enable more precise convergence.\n",
        "    Server Learning Rate (0.5): This appears high. A smaller learning rate, such as 0.1 or 0.05, might improve global model aggregation.\n",
        "\n",
        "2. Increase Model Complexity\n",
        "\n",
        "    Consider adding more layers or increasing the number of units in the existing layers:"
      ],
      "metadata": {
        "id": "2Dkn3xS0wvlF"
      }
    },
    {
      "cell_type": "code",
      "source": [
        "# Define the federated learning model\n",
        "def model_fn():\n",
        "    model = tf.keras.Sequential([\n",
        "        tf.keras.layers.LSTM(128, return_sequences=True, input_shape=(sequence_length, 6)),\n",
        "        tf.keras.layers.LSTM(64),\n",
        "        tf.keras.layers.Dense(1)\n",
        "    ])\n",
        "    return tff.learning.models.from_keras_model(\n",
        "        keras_model=model,\n",
        "        input_spec=client_data[0].element_spec,\n",
        "        loss=tf.keras.losses.MeanSquaredError(),\n",
        "        metrics=[tf.keras.metrics.MeanSquaredError()]\n",
        "    )\n",
        "\n",
        "# Define optimizers\n",
        "client_optimizer_fn = tff.learning.optimizers.build_sgdm(learning_rate=0.0005)  # Adjusted learning rate\n",
        "server_optimizer_fn = tff.learning.optimizers.build_sgdm(learning_rate=0.1)\n",
        "\n",
        "# Build the federated averaging process\n",
        "iterative_process = tff.learning.algorithms.build_weighted_fed_avg(\n",
        "    model_fn=model_fn,\n",
        "    client_optimizer_fn=client_optimizer_fn,\n",
        "    server_optimizer_fn=server_optimizer_fn\n",
        ")\n",
        "\n",
        "# Train the federated model\n",
        "state = iterative_process.initialize()\n",
        "num_rounds = 100\n",
        "for round_num in range(1, num_rounds + 1):\n",
        "    print(f\"Starting Round {round_num}...\")\n",
        "    state, metrics = iterative_process.next(state, client_data)\n",
        "    print(f\"Round {round_num}, Metrics: {metrics}\")\n"
      ],
      "metadata": {
        "colab": {
          "base_uri": "https://localhost:8080/"
        },
        "id": "qIdAqP4Bwp7Z",
        "outputId": "0db74324-be08-4330-afec-d447241f46f8"
      },
      "execution_count": null,
      "outputs": [
        {
          "output_type": "stream",
          "name": "stdout",
          "text": [
            "Starting Round 1...\n",
            "Round 1, Metrics: OrderedDict([('distributor', ()), ('client_work', OrderedDict([('train', OrderedDict([('mean_squared_error', 9191.983), ('loss', 9247.909), ('num_examples', 4930), ('num_batches', 155)]))])), ('aggregator', OrderedDict([('mean_value', ()), ('mean_weight', ())])), ('finalizer', OrderedDict([('update_non_finite', 0)]))])\n",
            "Starting Round 2...\n",
            "Round 2, Metrics: OrderedDict([('distributor', ()), ('client_work', OrderedDict([('train', OrderedDict([('mean_squared_error', 8690.725), ('loss', 8743.594), ('num_examples', 4930), ('num_batches', 155)]))])), ('aggregator', OrderedDict([('mean_value', ()), ('mean_weight', ())])), ('finalizer', OrderedDict([('update_non_finite', 0)]))])\n",
            "Starting Round 3...\n",
            "Round 3, Metrics: OrderedDict([('distributor', ()), ('client_work', OrderedDict([('train', OrderedDict([('mean_squared_error', 8476.609), ('loss', 8528.174), ('num_examples', 4930), ('num_batches', 155)]))])), ('aggregator', OrderedDict([('mean_value', ()), ('mean_weight', ())])), ('finalizer', OrderedDict([('update_non_finite', 0)]))])\n",
            "Starting Round 4...\n",
            "Round 4, Metrics: OrderedDict([('distributor', ()), ('client_work', OrderedDict([('train', OrderedDict([('mean_squared_error', 8267.255), ('loss', 8317.545), ('num_examples', 4930), ('num_batches', 155)]))])), ('aggregator', OrderedDict([('mean_value', ()), ('mean_weight', ())])), ('finalizer', OrderedDict([('update_non_finite', 0)]))])\n",
            "Starting Round 5...\n",
            "Round 5, Metrics: OrderedDict([('distributor', ()), ('client_work', OrderedDict([('train', OrderedDict([('mean_squared_error', 8130.721), ('loss', 8180.18), ('num_examples', 4930), ('num_batches', 155)]))])), ('aggregator', OrderedDict([('mean_value', ()), ('mean_weight', ())])), ('finalizer', OrderedDict([('update_non_finite', 0)]))])\n",
            "Starting Round 6...\n",
            "Round 6, Metrics: OrderedDict([('distributor', ()), ('client_work', OrderedDict([('train', OrderedDict([('mean_squared_error', 8043.6323), ('loss', 8092.5615), ('num_examples', 4930), ('num_batches', 155)]))])), ('aggregator', OrderedDict([('mean_value', ()), ('mean_weight', ())])), ('finalizer', OrderedDict([('update_non_finite', 0)]))])\n",
            "Starting Round 7...\n",
            "Round 7, Metrics: OrderedDict([('distributor', ()), ('client_work', OrderedDict([('train', OrderedDict([('mean_squared_error', 7976.679), ('loss', 8025.2007), ('num_examples', 4930), ('num_batches', 155)]))])), ('aggregator', OrderedDict([('mean_value', ()), ('mean_weight', ())])), ('finalizer', OrderedDict([('update_non_finite', 0)]))])\n",
            "Starting Round 8...\n",
            "Round 8, Metrics: OrderedDict([('distributor', ()), ('client_work', OrderedDict([('train', OrderedDict([('mean_squared_error', 7921.9443), ('loss', 7970.1333), ('num_examples', 4930), ('num_batches', 155)]))])), ('aggregator', OrderedDict([('mean_value', ()), ('mean_weight', ())])), ('finalizer', OrderedDict([('update_non_finite', 0)]))])\n",
            "Starting Round 9...\n",
            "Round 9, Metrics: OrderedDict([('distributor', ()), ('client_work', OrderedDict([('train', OrderedDict([('mean_squared_error', 7875.8066), ('loss', 7923.7144), ('num_examples', 4930), ('num_batches', 155)]))])), ('aggregator', OrderedDict([('mean_value', ()), ('mean_weight', ())])), ('finalizer', OrderedDict([('update_non_finite', 0)]))])\n",
            "Starting Round 10...\n",
            "Round 10, Metrics: OrderedDict([('distributor', ()), ('client_work', OrderedDict([('train', OrderedDict([('mean_squared_error', 7836.1436), ('loss', 7883.81), ('num_examples', 4930), ('num_batches', 155)]))])), ('aggregator', OrderedDict([('mean_value', ()), ('mean_weight', ())])), ('finalizer', OrderedDict([('update_non_finite', 0)]))])\n",
            "Starting Round 11...\n",
            "Round 11, Metrics: OrderedDict([('distributor', ()), ('client_work', OrderedDict([('train', OrderedDict([('mean_squared_error', 7801.609), ('loss', 7849.0654), ('num_examples', 4930), ('num_batches', 155)]))])), ('aggregator', OrderedDict([('mean_value', ()), ('mean_weight', ())])), ('finalizer', OrderedDict([('update_non_finite', 0)]))])\n",
            "Starting Round 12...\n",
            "Round 12, Metrics: OrderedDict([('distributor', ()), ('client_work', OrderedDict([('train', OrderedDict([('mean_squared_error', 7771.3135), ('loss', 7818.586), ('num_examples', 4930), ('num_batches', 155)]))])), ('aggregator', OrderedDict([('mean_value', ()), ('mean_weight', ())])), ('finalizer', OrderedDict([('update_non_finite', 0)]))])\n",
            "Starting Round 13...\n",
            "Round 13, Metrics: OrderedDict([('distributor', ()), ('client_work', OrderedDict([('train', OrderedDict([('mean_squared_error', 7744.596), ('loss', 7791.7056), ('num_examples', 4930), ('num_batches', 155)]))])), ('aggregator', OrderedDict([('mean_value', ()), ('mean_weight', ())])), ('finalizer', OrderedDict([('update_non_finite', 0)]))])\n",
            "Starting Round 14...\n",
            "Round 14, Metrics: OrderedDict([('distributor', ()), ('client_work', OrderedDict([('train', OrderedDict([('mean_squared_error', 7720.942), ('loss', 7767.9077), ('num_examples', 4930), ('num_batches', 155)]))])), ('aggregator', OrderedDict([('mean_value', ()), ('mean_weight', ())])), ('finalizer', OrderedDict([('update_non_finite', 0)]))])\n",
            "Starting Round 15...\n",
            "Round 15, Metrics: OrderedDict([('distributor', ()), ('client_work', OrderedDict([('train', OrderedDict([('mean_squared_error', 7699.954), ('loss', 7746.792), ('num_examples', 4930), ('num_batches', 155)]))])), ('aggregator', OrderedDict([('mean_value', ()), ('mean_weight', ())])), ('finalizer', OrderedDict([('update_non_finite', 0)]))])\n",
            "Starting Round 16...\n",
            "Round 16, Metrics: OrderedDict([('distributor', ()), ('client_work', OrderedDict([('train', OrderedDict([('mean_squared_error', 7681.276), ('loss', 7728.0), ('num_examples', 4930), ('num_batches', 155)]))])), ('aggregator', OrderedDict([('mean_value', ()), ('mean_weight', ())])), ('finalizer', OrderedDict([('update_non_finite', 0)]))])\n",
            "Starting Round 17...\n",
            "Round 17, Metrics: OrderedDict([('distributor', ()), ('client_work', OrderedDict([('train', OrderedDict([('mean_squared_error', 7664.636), ('loss', 7711.2593), ('num_examples', 4930), ('num_batches', 155)]))])), ('aggregator', OrderedDict([('mean_value', ()), ('mean_weight', ())])), ('finalizer', OrderedDict([('update_non_finite', 0)]))])\n",
            "Starting Round 18...\n",
            "Round 18, Metrics: OrderedDict([('distributor', ()), ('client_work', OrderedDict([('train', OrderedDict([('mean_squared_error', 7649.787), ('loss', 7696.32), ('num_examples', 4930), ('num_batches', 155)]))])), ('aggregator', OrderedDict([('mean_value', ()), ('mean_weight', ())])), ('finalizer', OrderedDict([('update_non_finite', 0)]))])\n",
            "Starting Round 19...\n",
            "Round 19, Metrics: OrderedDict([('distributor', ()), ('client_work', OrderedDict([('train', OrderedDict([('mean_squared_error', 7636.5273), ('loss', 7682.9795), ('num_examples', 4930), ('num_batches', 155)]))])), ('aggregator', OrderedDict([('mean_value', ()), ('mean_weight', ())])), ('finalizer', OrderedDict([('update_non_finite', 0)]))])\n",
            "Starting Round 20...\n",
            "Round 20, Metrics: OrderedDict([('distributor', ()), ('client_work', OrderedDict([('train', OrderedDict([('mean_squared_error', 7624.6733), ('loss', 7671.053), ('num_examples', 4930), ('num_batches', 155)]))])), ('aggregator', OrderedDict([('mean_value', ()), ('mean_weight', ())])), ('finalizer', OrderedDict([('update_non_finite', 0)]))])\n",
            "Starting Round 21...\n",
            "Round 21, Metrics: OrderedDict([('distributor', ()), ('client_work', OrderedDict([('train', OrderedDict([('mean_squared_error', 7614.062), ('loss', 7660.3774), ('num_examples', 4930), ('num_batches', 155)]))])), ('aggregator', OrderedDict([('mean_value', ()), ('mean_weight', ())])), ('finalizer', OrderedDict([('update_non_finite', 0)]))])\n",
            "Starting Round 22...\n",
            "Round 22, Metrics: OrderedDict([('distributor', ()), ('client_work', OrderedDict([('train', OrderedDict([('mean_squared_error', 7604.566), ('loss', 7650.8237), ('num_examples', 4930), ('num_batches', 155)]))])), ('aggregator', OrderedDict([('mean_value', ()), ('mean_weight', ())])), ('finalizer', OrderedDict([('update_non_finite', 0)]))])\n",
            "Starting Round 23...\n",
            "Round 23, Metrics: OrderedDict([('distributor', ()), ('client_work', OrderedDict([('train', OrderedDict([('mean_squared_error', 7596.057), ('loss', 7642.262), ('num_examples', 4930), ('num_batches', 155)]))])), ('aggregator', OrderedDict([('mean_value', ()), ('mean_weight', ())])), ('finalizer', OrderedDict([('update_non_finite', 0)]))])\n",
            "Starting Round 24...\n",
            "Round 24, Metrics: OrderedDict([('distributor', ()), ('client_work', OrderedDict([('train', OrderedDict([('mean_squared_error', 7588.4307), ('loss', 7634.589), ('num_examples', 4930), ('num_batches', 155)]))])), ('aggregator', OrderedDict([('mean_value', ()), ('mean_weight', ())])), ('finalizer', OrderedDict([('update_non_finite', 0)]))])\n",
            "Starting Round 25...\n",
            "Round 25, Metrics: OrderedDict([('distributor', ()), ('client_work', OrderedDict([('train', OrderedDict([('mean_squared_error', 7581.583), ('loss', 7627.6997), ('num_examples', 4930), ('num_batches', 155)]))])), ('aggregator', OrderedDict([('mean_value', ()), ('mean_weight', ())])), ('finalizer', OrderedDict([('update_non_finite', 0)]))])\n",
            "Starting Round 26...\n",
            "Round 26, Metrics: OrderedDict([('distributor', ()), ('client_work', OrderedDict([('train', OrderedDict([('mean_squared_error', 7575.4395), ('loss', 7621.519), ('num_examples', 4930), ('num_batches', 155)]))])), ('aggregator', OrderedDict([('mean_value', ()), ('mean_weight', ())])), ('finalizer', OrderedDict([('update_non_finite', 0)]))])\n",
            "Starting Round 27...\n",
            "Round 27, Metrics: OrderedDict([('distributor', ()), ('client_work', OrderedDict([('train', OrderedDict([('mean_squared_error', 7569.926), ('loss', 7615.9717), ('num_examples', 4930), ('num_batches', 155)]))])), ('aggregator', OrderedDict([('mean_value', ()), ('mean_weight', ())])), ('finalizer', OrderedDict([('update_non_finite', 0)]))])\n",
            "Starting Round 28...\n",
            "Round 28, Metrics: OrderedDict([('distributor', ()), ('client_work', OrderedDict([('train', OrderedDict([('mean_squared_error', 7564.974), ('loss', 7610.9897), ('num_examples', 4930), ('num_batches', 155)]))])), ('aggregator', OrderedDict([('mean_value', ()), ('mean_weight', ())])), ('finalizer', OrderedDict([('update_non_finite', 0)]))])\n",
            "Starting Round 29...\n",
            "Round 29, Metrics: OrderedDict([('distributor', ()), ('client_work', OrderedDict([('train', OrderedDict([('mean_squared_error', 7560.5312), ('loss', 7606.52), ('num_examples', 4930), ('num_batches', 155)]))])), ('aggregator', OrderedDict([('mean_value', ()), ('mean_weight', ())])), ('finalizer', OrderedDict([('update_non_finite', 0)]))])\n",
            "Starting Round 30...\n",
            "Round 30, Metrics: OrderedDict([('distributor', ()), ('client_work', OrderedDict([('train', OrderedDict([('mean_squared_error', 7556.53), ('loss', 7602.494), ('num_examples', 4930), ('num_batches', 155)]))])), ('aggregator', OrderedDict([('mean_value', ()), ('mean_weight', ())])), ('finalizer', OrderedDict([('update_non_finite', 0)]))])\n",
            "Starting Round 31...\n",
            "Round 31, Metrics: OrderedDict([('distributor', ()), ('client_work', OrderedDict([('train', OrderedDict([('mean_squared_error', 7552.938), ('loss', 7598.8804), ('num_examples', 4930), ('num_batches', 155)]))])), ('aggregator', OrderedDict([('mean_value', ()), ('mean_weight', ())])), ('finalizer', OrderedDict([('update_non_finite', 0)]))])\n",
            "Starting Round 32...\n",
            "Round 32, Metrics: OrderedDict([('distributor', ()), ('client_work', OrderedDict([('train', OrderedDict([('mean_squared_error', 7549.707), ('loss', 7595.63), ('num_examples', 4930), ('num_batches', 155)]))])), ('aggregator', OrderedDict([('mean_value', ()), ('mean_weight', ())])), ('finalizer', OrderedDict([('update_non_finite', 0)]))])\n",
            "Starting Round 33...\n",
            "Round 33, Metrics: OrderedDict([('distributor', ()), ('client_work', OrderedDict([('train', OrderedDict([('mean_squared_error', 7546.7944), ('loss', 7592.699), ('num_examples', 4930), ('num_batches', 155)]))])), ('aggregator', OrderedDict([('mean_value', ()), ('mean_weight', ())])), ('finalizer', OrderedDict([('update_non_finite', 0)]))])\n",
            "Starting Round 34...\n",
            "Round 34, Metrics: OrderedDict([('distributor', ()), ('client_work', OrderedDict([('train', OrderedDict([('mean_squared_error', 7544.179), ('loss', 7590.0684), ('num_examples', 4930), ('num_batches', 155)]))])), ('aggregator', OrderedDict([('mean_value', ()), ('mean_weight', ())])), ('finalizer', OrderedDict([('update_non_finite', 0)]))])\n",
            "Starting Round 35...\n",
            "Round 35, Metrics: OrderedDict([('distributor', ()), ('client_work', OrderedDict([('train', OrderedDict([('mean_squared_error', 7541.823), ('loss', 7587.698), ('num_examples', 4930), ('num_batches', 155)]))])), ('aggregator', OrderedDict([('mean_value', ()), ('mean_weight', ())])), ('finalizer', OrderedDict([('update_non_finite', 0)]))])\n",
            "Starting Round 36...\n",
            "Round 36, Metrics: OrderedDict([('distributor', ()), ('client_work', OrderedDict([('train', OrderedDict([('mean_squared_error', 7539.6978), ('loss', 7585.5596), ('num_examples', 4930), ('num_batches', 155)]))])), ('aggregator', OrderedDict([('mean_value', ()), ('mean_weight', ())])), ('finalizer', OrderedDict([('update_non_finite', 0)]))])\n",
            "Starting Round 37...\n",
            "Round 37, Metrics: OrderedDict([('distributor', ()), ('client_work', OrderedDict([('train', OrderedDict([('mean_squared_error', 7537.7896), ('loss', 7583.6396), ('num_examples', 4930), ('num_batches', 155)]))])), ('aggregator', OrderedDict([('mean_value', ()), ('mean_weight', ())])), ('finalizer', OrderedDict([('update_non_finite', 0)]))])\n",
            "Starting Round 38...\n",
            "Round 38, Metrics: OrderedDict([('distributor', ()), ('client_work', OrderedDict([('train', OrderedDict([('mean_squared_error', 7536.063), ('loss', 7581.903), ('num_examples', 4930), ('num_batches', 155)]))])), ('aggregator', OrderedDict([('mean_value', ()), ('mean_weight', ())])), ('finalizer', OrderedDict([('update_non_finite', 0)]))])\n",
            "Starting Round 39...\n",
            "Round 39, Metrics: OrderedDict([('distributor', ()), ('client_work', OrderedDict([('train', OrderedDict([('mean_squared_error', 7534.5103), ('loss', 7580.342), ('num_examples', 4930), ('num_batches', 155)]))])), ('aggregator', OrderedDict([('mean_value', ()), ('mean_weight', ())])), ('finalizer', OrderedDict([('update_non_finite', 0)]))])\n",
            "Starting Round 40...\n",
            "Round 40, Metrics: OrderedDict([('distributor', ()), ('client_work', OrderedDict([('train', OrderedDict([('mean_squared_error', 7533.1123), ('loss', 7578.9346), ('num_examples', 4930), ('num_batches', 155)]))])), ('aggregator', OrderedDict([('mean_value', ()), ('mean_weight', ())])), ('finalizer', OrderedDict([('update_non_finite', 0)]))])\n",
            "Starting Round 41...\n",
            "Round 41, Metrics: OrderedDict([('distributor', ()), ('client_work', OrderedDict([('train', OrderedDict([('mean_squared_error', 7531.8467), ('loss', 7577.6616), ('num_examples', 4930), ('num_batches', 155)]))])), ('aggregator', OrderedDict([('mean_value', ()), ('mean_weight', ())])), ('finalizer', OrderedDict([('update_non_finite', 0)]))])\n",
            "Starting Round 42...\n",
            "Round 42, Metrics: OrderedDict([('distributor', ()), ('client_work', OrderedDict([('train', OrderedDict([('mean_squared_error', 7530.697), ('loss', 7576.505), ('num_examples', 4930), ('num_batches', 155)]))])), ('aggregator', OrderedDict([('mean_value', ()), ('mean_weight', ())])), ('finalizer', OrderedDict([('update_non_finite', 0)]))])\n",
            "Starting Round 43...\n",
            "Round 43, Metrics: OrderedDict([('distributor', ()), ('client_work', OrderedDict([('train', OrderedDict([('mean_squared_error', 7529.667), ('loss', 7575.4688), ('num_examples', 4930), ('num_batches', 155)]))])), ('aggregator', OrderedDict([('mean_value', ()), ('mean_weight', ())])), ('finalizer', OrderedDict([('update_non_finite', 0)]))])\n",
            "Starting Round 44...\n",
            "Round 44, Metrics: OrderedDict([('distributor', ()), ('client_work', OrderedDict([('train', OrderedDict([('mean_squared_error', 7528.735), ('loss', 7574.531), ('num_examples', 4930), ('num_batches', 155)]))])), ('aggregator', OrderedDict([('mean_value', ()), ('mean_weight', ())])), ('finalizer', OrderedDict([('update_non_finite', 0)]))])\n",
            "Starting Round 45...\n",
            "Round 45, Metrics: OrderedDict([('distributor', ()), ('client_work', OrderedDict([('train', OrderedDict([('mean_squared_error', 7527.895), ('loss', 7573.686), ('num_examples', 4930), ('num_batches', 155)]))])), ('aggregator', OrderedDict([('mean_value', ()), ('mean_weight', ())])), ('finalizer', OrderedDict([('update_non_finite', 0)]))])\n",
            "Starting Round 46...\n",
            "Round 46, Metrics: OrderedDict([('distributor', ()), ('client_work', OrderedDict([('train', OrderedDict([('mean_squared_error', 7527.134), ('loss', 7572.92), ('num_examples', 4930), ('num_batches', 155)]))])), ('aggregator', OrderedDict([('mean_value', ()), ('mean_weight', ())])), ('finalizer', OrderedDict([('update_non_finite', 0)]))])\n",
            "Starting Round 47...\n",
            "Round 47, Metrics: OrderedDict([('distributor', ()), ('client_work', OrderedDict([('train', OrderedDict([('mean_squared_error', 7526.447), ('loss', 7572.229), ('num_examples', 4930), ('num_batches', 155)]))])), ('aggregator', OrderedDict([('mean_value', ()), ('mean_weight', ())])), ('finalizer', OrderedDict([('update_non_finite', 0)]))])\n",
            "Starting Round 48...\n",
            "Round 48, Metrics: OrderedDict([('distributor', ()), ('client_work', OrderedDict([('train', OrderedDict([('mean_squared_error', 7525.8203), ('loss', 7571.598), ('num_examples', 4930), ('num_batches', 155)]))])), ('aggregator', OrderedDict([('mean_value', ()), ('mean_weight', ())])), ('finalizer', OrderedDict([('update_non_finite', 0)]))])\n",
            "Starting Round 49...\n",
            "Round 49, Metrics: OrderedDict([('distributor', ()), ('client_work', OrderedDict([('train', OrderedDict([('mean_squared_error', 7525.255), ('loss', 7571.03), ('num_examples', 4930), ('num_batches', 155)]))])), ('aggregator', OrderedDict([('mean_value', ()), ('mean_weight', ())])), ('finalizer', OrderedDict([('update_non_finite', 0)]))])\n",
            "Starting Round 50...\n",
            "Round 50, Metrics: OrderedDict([('distributor', ()), ('client_work', OrderedDict([('train', OrderedDict([('mean_squared_error', 7524.7427), ('loss', 7570.514), ('num_examples', 4930), ('num_batches', 155)]))])), ('aggregator', OrderedDict([('mean_value', ()), ('mean_weight', ())])), ('finalizer', OrderedDict([('update_non_finite', 0)]))])\n",
            "Starting Round 51...\n",
            "Round 51, Metrics: OrderedDict([('distributor', ()), ('client_work', OrderedDict([('train', OrderedDict([('mean_squared_error', 7524.2676), ('loss', 7570.0366), ('num_examples', 4930), ('num_batches', 155)]))])), ('aggregator', OrderedDict([('mean_value', ()), ('mean_weight', ())])), ('finalizer', OrderedDict([('update_non_finite', 0)]))])\n",
            "Starting Round 52...\n",
            "Round 52, Metrics: OrderedDict([('distributor', ()), ('client_work', OrderedDict([('train', OrderedDict([('mean_squared_error', 7523.85), ('loss', 7569.616), ('num_examples', 4930), ('num_batches', 155)]))])), ('aggregator', OrderedDict([('mean_value', ()), ('mean_weight', ())])), ('finalizer', OrderedDict([('update_non_finite', 0)]))])\n",
            "Starting Round 53...\n",
            "Round 53, Metrics: OrderedDict([('distributor', ()), ('client_work', OrderedDict([('train', OrderedDict([('mean_squared_error', 7523.4614), ('loss', 7569.225), ('num_examples', 4930), ('num_batches', 155)]))])), ('aggregator', OrderedDict([('mean_value', ()), ('mean_weight', ())])), ('finalizer', OrderedDict([('update_non_finite', 0)]))])\n",
            "Starting Round 54...\n",
            "Round 54, Metrics: OrderedDict([('distributor', ()), ('client_work', OrderedDict([('train', OrderedDict([('mean_squared_error', 7523.1113), ('loss', 7568.873), ('num_examples', 4930), ('num_batches', 155)]))])), ('aggregator', OrderedDict([('mean_value', ()), ('mean_weight', ())])), ('finalizer', OrderedDict([('update_non_finite', 0)]))])\n",
            "Starting Round 55...\n",
            "Round 55, Metrics: OrderedDict([('distributor', ()), ('client_work', OrderedDict([('train', OrderedDict([('mean_squared_error', 7522.7896), ('loss', 7568.5493), ('num_examples', 4930), ('num_batches', 155)]))])), ('aggregator', OrderedDict([('mean_value', ()), ('mean_weight', ())])), ('finalizer', OrderedDict([('update_non_finite', 0)]))])\n",
            "Starting Round 56...\n",
            "Round 56, Metrics: OrderedDict([('distributor', ()), ('client_work', OrderedDict([('train', OrderedDict([('mean_squared_error', 7522.5), ('loss', 7568.258), ('num_examples', 4930), ('num_batches', 155)]))])), ('aggregator', OrderedDict([('mean_value', ()), ('mean_weight', ())])), ('finalizer', OrderedDict([('update_non_finite', 0)]))])\n",
            "Starting Round 57...\n",
            "Round 57, Metrics: OrderedDict([('distributor', ()), ('client_work', OrderedDict([('train', OrderedDict([('mean_squared_error', 7522.2305), ('loss', 7567.987), ('num_examples', 4930), ('num_batches', 155)]))])), ('aggregator', OrderedDict([('mean_value', ()), ('mean_weight', ())])), ('finalizer', OrderedDict([('update_non_finite', 0)]))])\n",
            "Starting Round 58...\n",
            "Round 58, Metrics: OrderedDict([('distributor', ()), ('client_work', OrderedDict([('train', OrderedDict([('mean_squared_error', 7521.9854), ('loss', 7567.74), ('num_examples', 4930), ('num_batches', 155)]))])), ('aggregator', OrderedDict([('mean_value', ()), ('mean_weight', ())])), ('finalizer', OrderedDict([('update_non_finite', 0)]))])\n",
            "Starting Round 59...\n",
            "Round 59, Metrics: OrderedDict([('distributor', ()), ('client_work', OrderedDict([('train', OrderedDict([('mean_squared_error', 7521.761), ('loss', 7567.5146), ('num_examples', 4930), ('num_batches', 155)]))])), ('aggregator', OrderedDict([('mean_value', ()), ('mean_weight', ())])), ('finalizer', OrderedDict([('update_non_finite', 0)]))])\n",
            "Starting Round 60...\n",
            "Round 60, Metrics: OrderedDict([('distributor', ()), ('client_work', OrderedDict([('train', OrderedDict([('mean_squared_error', 7521.558), ('loss', 7567.3105), ('num_examples', 4930), ('num_batches', 155)]))])), ('aggregator', OrderedDict([('mean_value', ()), ('mean_weight', ())])), ('finalizer', OrderedDict([('update_non_finite', 0)]))])\n",
            "Starting Round 61...\n",
            "Round 61, Metrics: OrderedDict([('distributor', ()), ('client_work', OrderedDict([('train', OrderedDict([('mean_squared_error', 7521.3726), ('loss', 7567.1235), ('num_examples', 4930), ('num_batches', 155)]))])), ('aggregator', OrderedDict([('mean_value', ()), ('mean_weight', ())])), ('finalizer', OrderedDict([('update_non_finite', 0)]))])\n",
            "Starting Round 62...\n",
            "Round 62, Metrics: OrderedDict([('distributor', ()), ('client_work', OrderedDict([('train', OrderedDict([('mean_squared_error', 7521.1934), ('loss', 7566.944), ('num_examples', 4930), ('num_batches', 155)]))])), ('aggregator', OrderedDict([('mean_value', ()), ('mean_weight', ())])), ('finalizer', OrderedDict([('update_non_finite', 0)]))])\n",
            "Starting Round 63...\n",
            "Round 63, Metrics: OrderedDict([('distributor', ()), ('client_work', OrderedDict([('train', OrderedDict([('mean_squared_error', 7521.036), ('loss', 7566.785), ('num_examples', 4930), ('num_batches', 155)]))])), ('aggregator', OrderedDict([('mean_value', ()), ('mean_weight', ())])), ('finalizer', OrderedDict([('update_non_finite', 0)]))])\n",
            "Starting Round 64...\n",
            "Round 64, Metrics: OrderedDict([('distributor', ()), ('client_work', OrderedDict([('train', OrderedDict([('mean_squared_error', 7520.8887), ('loss', 7566.6367), ('num_examples', 4930), ('num_batches', 155)]))])), ('aggregator', OrderedDict([('mean_value', ()), ('mean_weight', ())])), ('finalizer', OrderedDict([('update_non_finite', 0)]))])\n",
            "Starting Round 65...\n",
            "Round 65, Metrics: OrderedDict([('distributor', ()), ('client_work', OrderedDict([('train', OrderedDict([('mean_squared_error', 7520.7563), ('loss', 7566.504), ('num_examples', 4930), ('num_batches', 155)]))])), ('aggregator', OrderedDict([('mean_value', ()), ('mean_weight', ())])), ('finalizer', OrderedDict([('update_non_finite', 0)]))])\n",
            "Starting Round 66...\n",
            "Round 66, Metrics: OrderedDict([('distributor', ()), ('client_work', OrderedDict([('train', OrderedDict([('mean_squared_error', 7520.629), ('loss', 7566.3755), ('num_examples', 4930), ('num_batches', 155)]))])), ('aggregator', OrderedDict([('mean_value', ()), ('mean_weight', ())])), ('finalizer', OrderedDict([('update_non_finite', 0)]))])\n",
            "Starting Round 67...\n",
            "Round 67, Metrics: OrderedDict([('distributor', ()), ('client_work', OrderedDict([('train', OrderedDict([('mean_squared_error', 7520.5127), ('loss', 7566.259), ('num_examples', 4930), ('num_batches', 155)]))])), ('aggregator', OrderedDict([('mean_value', ()), ('mean_weight', ())])), ('finalizer', OrderedDict([('update_non_finite', 0)]))])\n",
            "Starting Round 68...\n",
            "Round 68, Metrics: OrderedDict([('distributor', ()), ('client_work', OrderedDict([('train', OrderedDict([('mean_squared_error', 7520.406), ('loss', 7566.151), ('num_examples', 4930), ('num_batches', 155)]))])), ('aggregator', OrderedDict([('mean_value', ()), ('mean_weight', ())])), ('finalizer', OrderedDict([('update_non_finite', 0)]))])\n",
            "Starting Round 69...\n",
            "Round 69, Metrics: OrderedDict([('distributor', ()), ('client_work', OrderedDict([('train', OrderedDict([('mean_squared_error', 7520.303), ('loss', 7566.048), ('num_examples', 4930), ('num_batches', 155)]))])), ('aggregator', OrderedDict([('mean_value', ()), ('mean_weight', ())])), ('finalizer', OrderedDict([('update_non_finite', 0)]))])\n",
            "Starting Round 70...\n",
            "Round 70, Metrics: OrderedDict([('distributor', ()), ('client_work', OrderedDict([('train', OrderedDict([('mean_squared_error', 7520.209), ('loss', 7565.953), ('num_examples', 4930), ('num_batches', 155)]))])), ('aggregator', OrderedDict([('mean_value', ()), ('mean_weight', ())])), ('finalizer', OrderedDict([('update_non_finite', 0)]))])\n",
            "Starting Round 71...\n",
            "Round 71, Metrics: OrderedDict([('distributor', ()), ('client_work', OrderedDict([('train', OrderedDict([('mean_squared_error', 7520.115), ('loss', 7565.859), ('num_examples', 4930), ('num_batches', 155)]))])), ('aggregator', OrderedDict([('mean_value', ()), ('mean_weight', ())])), ('finalizer', OrderedDict([('update_non_finite', 0)]))])\n",
            "Starting Round 72...\n",
            "Round 72, Metrics: OrderedDict([('distributor', ()), ('client_work', OrderedDict([('train', OrderedDict([('mean_squared_error', 7520.0396), ('loss', 7565.7827), ('num_examples', 4930), ('num_batches', 155)]))])), ('aggregator', OrderedDict([('mean_value', ()), ('mean_weight', ())])), ('finalizer', OrderedDict([('update_non_finite', 0)]))])\n",
            "Starting Round 73...\n",
            "Round 73, Metrics: OrderedDict([('distributor', ()), ('client_work', OrderedDict([('train', OrderedDict([('mean_squared_error', 7519.962), ('loss', 7565.7046), ('num_examples', 4930), ('num_batches', 155)]))])), ('aggregator', OrderedDict([('mean_value', ()), ('mean_weight', ())])), ('finalizer', OrderedDict([('update_non_finite', 0)]))])\n",
            "Starting Round 74...\n",
            "Round 74, Metrics: OrderedDict([('distributor', ()), ('client_work', OrderedDict([('train', OrderedDict([('mean_squared_error', 7519.8833), ('loss', 7565.625), ('num_examples', 4930), ('num_batches', 155)]))])), ('aggregator', OrderedDict([('mean_value', ()), ('mean_weight', ())])), ('finalizer', OrderedDict([('update_non_finite', 0)]))])\n",
            "Starting Round 75...\n",
            "Round 75, Metrics: OrderedDict([('distributor', ()), ('client_work', OrderedDict([('train', OrderedDict([('mean_squared_error', 7519.8154), ('loss', 7565.557), ('num_examples', 4930), ('num_batches', 155)]))])), ('aggregator', OrderedDict([('mean_value', ()), ('mean_weight', ())])), ('finalizer', OrderedDict([('update_non_finite', 0)]))])\n",
            "Starting Round 76...\n",
            "Round 76, Metrics: OrderedDict([('distributor', ()), ('client_work', OrderedDict([('train', OrderedDict([('mean_squared_error', 7519.7485), ('loss', 7565.4897), ('num_examples', 4930), ('num_batches', 155)]))])), ('aggregator', OrderedDict([('mean_value', ()), ('mean_weight', ())])), ('finalizer', OrderedDict([('update_non_finite', 0)]))])\n",
            "Starting Round 77...\n",
            "Round 77, Metrics: OrderedDict([('distributor', ()), ('client_work', OrderedDict([('train', OrderedDict([('mean_squared_error', 7519.6865), ('loss', 7565.4272), ('num_examples', 4930), ('num_batches', 155)]))])), ('aggregator', OrderedDict([('mean_value', ()), ('mean_weight', ())])), ('finalizer', OrderedDict([('update_non_finite', 0)]))])\n",
            "Starting Round 78...\n",
            "Round 78, Metrics: OrderedDict([('distributor', ()), ('client_work', OrderedDict([('train', OrderedDict([('mean_squared_error', 7519.6284), ('loss', 7565.3687), ('num_examples', 4930), ('num_batches', 155)]))])), ('aggregator', OrderedDict([('mean_value', ()), ('mean_weight', ())])), ('finalizer', OrderedDict([('update_non_finite', 0)]))])\n",
            "Starting Round 79...\n",
            "Round 79, Metrics: OrderedDict([('distributor', ()), ('client_work', OrderedDict([('train', OrderedDict([('mean_squared_error', 7519.5684), ('loss', 7565.3086), ('num_examples', 4930), ('num_batches', 155)]))])), ('aggregator', OrderedDict([('mean_value', ()), ('mean_weight', ())])), ('finalizer', OrderedDict([('update_non_finite', 0)]))])\n",
            "Starting Round 80...\n",
            "Round 80, Metrics: OrderedDict([('distributor', ()), ('client_work', OrderedDict([('train', OrderedDict([('mean_squared_error', 7519.5127), ('loss', 7565.253), ('num_examples', 4930), ('num_batches', 155)]))])), ('aggregator', OrderedDict([('mean_value', ()), ('mean_weight', ())])), ('finalizer', OrderedDict([('update_non_finite', 0)]))])\n",
            "Starting Round 81...\n",
            "Round 81, Metrics: OrderedDict([('distributor', ()), ('client_work', OrderedDict([('train', OrderedDict([('mean_squared_error', 7519.4663), ('loss', 7565.2056), ('num_examples', 4930), ('num_batches', 155)]))])), ('aggregator', OrderedDict([('mean_value', ()), ('mean_weight', ())])), ('finalizer', OrderedDict([('update_non_finite', 0)]))])\n",
            "Starting Round 82...\n",
            "Round 82, Metrics: OrderedDict([('distributor', ()), ('client_work', OrderedDict([('train', OrderedDict([('mean_squared_error', 7519.4194), ('loss', 7565.1587), ('num_examples', 4930), ('num_batches', 155)]))])), ('aggregator', OrderedDict([('mean_value', ()), ('mean_weight', ())])), ('finalizer', OrderedDict([('update_non_finite', 0)]))])\n",
            "Starting Round 83...\n",
            "Round 83, Metrics: OrderedDict([('distributor', ()), ('client_work', OrderedDict([('train', OrderedDict([('mean_squared_error', 7519.371), ('loss', 7565.11), ('num_examples', 4930), ('num_batches', 155)]))])), ('aggregator', OrderedDict([('mean_value', ()), ('mean_weight', ())])), ('finalizer', OrderedDict([('update_non_finite', 0)]))])\n",
            "Starting Round 84...\n",
            "Round 84, Metrics: OrderedDict([('distributor', ()), ('client_work', OrderedDict([('train', OrderedDict([('mean_squared_error', 7519.321), ('loss', 7565.0596), ('num_examples', 4930), ('num_batches', 155)]))])), ('aggregator', OrderedDict([('mean_value', ()), ('mean_weight', ())])), ('finalizer', OrderedDict([('update_non_finite', 0)]))])\n",
            "Starting Round 85...\n",
            "Round 85, Metrics: OrderedDict([('distributor', ()), ('client_work', OrderedDict([('train', OrderedDict([('mean_squared_error', 7519.2783), ('loss', 7565.0166), ('num_examples', 4930), ('num_batches', 155)]))])), ('aggregator', OrderedDict([('mean_value', ()), ('mean_weight', ())])), ('finalizer', OrderedDict([('update_non_finite', 0)]))])\n",
            "Starting Round 86...\n",
            "Round 86, Metrics: OrderedDict([('distributor', ()), ('client_work', OrderedDict([('train', OrderedDict([('mean_squared_error', 7519.2373), ('loss', 7564.975), ('num_examples', 4930), ('num_batches', 155)]))])), ('aggregator', OrderedDict([('mean_value', ()), ('mean_weight', ())])), ('finalizer', OrderedDict([('update_non_finite', 0)]))])\n",
            "Starting Round 87...\n",
            "Round 87, Metrics: OrderedDict([('distributor', ()), ('client_work', OrderedDict([('train', OrderedDict([('mean_squared_error', 7519.1978), ('loss', 7564.9355), ('num_examples', 4930), ('num_batches', 155)]))])), ('aggregator', OrderedDict([('mean_value', ()), ('mean_weight', ())])), ('finalizer', OrderedDict([('update_non_finite', 0)]))])\n",
            "Starting Round 88...\n",
            "Round 88, Metrics: OrderedDict([('distributor', ()), ('client_work', OrderedDict([('train', OrderedDict([('mean_squared_error', 7519.162), ('loss', 7564.9), ('num_examples', 4930), ('num_batches', 155)]))])), ('aggregator', OrderedDict([('mean_value', ()), ('mean_weight', ())])), ('finalizer', OrderedDict([('update_non_finite', 0)]))])\n",
            "Starting Round 89...\n",
            "Round 89, Metrics: OrderedDict([('distributor', ()), ('client_work', OrderedDict([('train', OrderedDict([('mean_squared_error', 7519.12), ('loss', 7564.8574), ('num_examples', 4930), ('num_batches', 155)]))])), ('aggregator', OrderedDict([('mean_value', ()), ('mean_weight', ())])), ('finalizer', OrderedDict([('update_non_finite', 0)]))])\n",
            "Starting Round 90...\n",
            "Round 90, Metrics: OrderedDict([('distributor', ()), ('client_work', OrderedDict([('train', OrderedDict([('mean_squared_error', 7519.0806), ('loss', 7564.818), ('num_examples', 4930), ('num_batches', 155)]))])), ('aggregator', OrderedDict([('mean_value', ()), ('mean_weight', ())])), ('finalizer', OrderedDict([('update_non_finite', 0)]))])\n",
            "Starting Round 91...\n",
            "Round 91, Metrics: OrderedDict([('distributor', ()), ('client_work', OrderedDict([('train', OrderedDict([('mean_squared_error', 7519.047), ('loss', 7564.7837), ('num_examples', 4930), ('num_batches', 155)]))])), ('aggregator', OrderedDict([('mean_value', ()), ('mean_weight', ())])), ('finalizer', OrderedDict([('update_non_finite', 0)]))])\n",
            "Starting Round 92...\n",
            "Round 92, Metrics: OrderedDict([('distributor', ()), ('client_work', OrderedDict([('train', OrderedDict([('mean_squared_error', 7519.0146), ('loss', 7564.7515), ('num_examples', 4930), ('num_batches', 155)]))])), ('aggregator', OrderedDict([('mean_value', ()), ('mean_weight', ())])), ('finalizer', OrderedDict([('update_non_finite', 0)]))])\n",
            "Starting Round 93...\n",
            "Round 93, Metrics: OrderedDict([('distributor', ()), ('client_work', OrderedDict([('train', OrderedDict([('mean_squared_error', 7518.9824), ('loss', 7564.7188), ('num_examples', 4930), ('num_batches', 155)]))])), ('aggregator', OrderedDict([('mean_value', ()), ('mean_weight', ())])), ('finalizer', OrderedDict([('update_non_finite', 0)]))])\n",
            "Starting Round 94...\n",
            "Round 94, Metrics: OrderedDict([('distributor', ()), ('client_work', OrderedDict([('train', OrderedDict([('mean_squared_error', 7518.948), ('loss', 7564.6846), ('num_examples', 4930), ('num_batches', 155)]))])), ('aggregator', OrderedDict([('mean_value', ()), ('mean_weight', ())])), ('finalizer', OrderedDict([('update_non_finite', 0)]))])\n",
            "Starting Round 95...\n",
            "Round 95, Metrics: OrderedDict([('distributor', ()), ('client_work', OrderedDict([('train', OrderedDict([('mean_squared_error', 7518.9146), ('loss', 7564.651), ('num_examples', 4930), ('num_batches', 155)]))])), ('aggregator', OrderedDict([('mean_value', ()), ('mean_weight', ())])), ('finalizer', OrderedDict([('update_non_finite', 0)]))])\n",
            "Starting Round 96...\n",
            "Round 96, Metrics: OrderedDict([('distributor', ()), ('client_work', OrderedDict([('train', OrderedDict([('mean_squared_error', 7518.885), ('loss', 7564.6206), ('num_examples', 4930), ('num_batches', 155)]))])), ('aggregator', OrderedDict([('mean_value', ()), ('mean_weight', ())])), ('finalizer', OrderedDict([('update_non_finite', 0)]))])\n",
            "Starting Round 97...\n",
            "Round 97, Metrics: OrderedDict([('distributor', ()), ('client_work', OrderedDict([('train', OrderedDict([('mean_squared_error', 7518.855), ('loss', 7564.591), ('num_examples', 4930), ('num_batches', 155)]))])), ('aggregator', OrderedDict([('mean_value', ()), ('mean_weight', ())])), ('finalizer', OrderedDict([('update_non_finite', 0)]))])\n",
            "Starting Round 98...\n",
            "Round 98, Metrics: OrderedDict([('distributor', ()), ('client_work', OrderedDict([('train', OrderedDict([('mean_squared_error', 7518.8276), ('loss', 7564.563), ('num_examples', 4930), ('num_batches', 155)]))])), ('aggregator', OrderedDict([('mean_value', ()), ('mean_weight', ())])), ('finalizer', OrderedDict([('update_non_finite', 0)]))])\n",
            "Starting Round 99...\n",
            "Round 99, Metrics: OrderedDict([('distributor', ()), ('client_work', OrderedDict([('train', OrderedDict([('mean_squared_error', 7518.792), ('loss', 7564.5273), ('num_examples', 4930), ('num_batches', 155)]))])), ('aggregator', OrderedDict([('mean_value', ()), ('mean_weight', ())])), ('finalizer', OrderedDict([('update_non_finite', 0)]))])\n",
            "Starting Round 100...\n",
            "Round 100, Metrics: OrderedDict([('distributor', ()), ('client_work', OrderedDict([('train', OrderedDict([('mean_squared_error', 7518.7646), ('loss', 7564.5), ('num_examples', 4930), ('num_batches', 155)]))])), ('aggregator', OrderedDict([('mean_value', ()), ('mean_weight', ())])), ('finalizer', OrderedDict([('update_non_finite', 0)]))])\n"
          ]
        }
      ]
    },
    {
      "cell_type": "code",
      "source": [],
      "metadata": {
        "id": "K9mWtdh6wp3z"
      },
      "execution_count": null,
      "outputs": []
    },
    {
      "cell_type": "markdown",
      "source": [
        "When we only change Consider adding more layers  from 64 to 128\n",
        "from 32 to 128"
      ],
      "metadata": {
        "id": "J5xzhB7h2Kad"
      }
    },
    {
      "cell_type": "code",
      "source": [
        "# Define the federated learning model\n",
        "def model_fn():\n",
        "    model = tf.keras.Sequential([\n",
        "        tf.keras.layers.LSTM(128, return_sequences=True, input_shape=(sequence_length, 6)),\n",
        "        tf.keras.layers.LSTM(64),\n",
        "        tf.keras.layers.Dense(1)  # Output layer for regression\n",
        "    ])\n",
        "    return tff.learning.models.from_keras_model(\n",
        "        keras_model=model,\n",
        "        input_spec=client_data[0].element_spec,\n",
        "        loss=tf.keras.losses.MeanSquaredError(),\n",
        "        metrics=[tf.keras.metrics.MeanSquaredError()]\n",
        "    )\n",
        "\n",
        "# Define optimizers\n",
        "client_optimizer_fn = tff.learning.optimizers.build_sgdm(learning_rate=0.001)  # Adjusted learning rate\n",
        "server_optimizer_fn = tff.learning.optimizers.build_sgdm(learning_rate=0.5)\n",
        "\n",
        "# Build the federated averaging process\n",
        "iterative_process = tff.learning.algorithms.build_weighted_fed_avg(\n",
        "    model_fn=model_fn,\n",
        "    client_optimizer_fn=client_optimizer_fn,\n",
        "    server_optimizer_fn=server_optimizer_fn\n",
        ")\n",
        "\n",
        "# Train the federated model\n",
        "state = iterative_process.initialize()\n",
        "num_rounds = 10\n",
        "for round_num in range(1, num_rounds + 1):\n",
        "    print(f\"Starting Round {round_num}...\")\n",
        "    state, metrics = iterative_process.next(state, client_data)\n",
        "    print(f\"Round {round_num}, Metrics: {metrics}\")\n"
      ],
      "metadata": {
        "colab": {
          "base_uri": "https://localhost:8080/"
        },
        "id": "PAZB2yFj1U5o",
        "outputId": "d755f060-c5c5-4ecf-b73d-114ccb017ae8"
      },
      "execution_count": null,
      "outputs": [
        {
          "output_type": "stream",
          "name": "stdout",
          "text": [
            "Starting Round 1...\n",
            "Round 1, Metrics: OrderedDict([('distributor', ()), ('client_work', OrderedDict([('train', OrderedDict([('mean_squared_error', 5645.58), ('loss', 5679.888), ('num_examples', 4930), ('num_batches', 155)]))])), ('aggregator', OrderedDict([('mean_value', ()), ('mean_weight', ())])), ('finalizer', OrderedDict([('update_non_finite', 0)]))])\n",
            "Starting Round 2...\n",
            "Round 2, Metrics: OrderedDict([('distributor', ()), ('client_work', OrderedDict([('train', OrderedDict([('mean_squared_error', 4931.98), ('loss', 4961.948), ('num_examples', 4930), ('num_batches', 155)]))])), ('aggregator', OrderedDict([('mean_value', ()), ('mean_weight', ())])), ('finalizer', OrderedDict([('update_non_finite', 0)]))])\n",
            "Starting Round 3...\n",
            "Round 3, Metrics: OrderedDict([('distributor', ()), ('client_work', OrderedDict([('train', OrderedDict([('mean_squared_error', 4750.5737), ('loss', 4779.435), ('num_examples', 4930), ('num_batches', 155)]))])), ('aggregator', OrderedDict([('mean_value', ()), ('mean_weight', ())])), ('finalizer', OrderedDict([('update_non_finite', 0)]))])\n",
            "Starting Round 4...\n",
            "Round 4, Metrics: OrderedDict([('distributor', ()), ('client_work', OrderedDict([('train', OrderedDict([('mean_squared_error', 4687.2593), ('loss', 4715.7354), ('num_examples', 4930), ('num_batches', 155)]))])), ('aggregator', OrderedDict([('mean_value', ()), ('mean_weight', ())])), ('finalizer', OrderedDict([('update_non_finite', 0)]))])\n",
            "Starting Round 5...\n",
            "Round 5, Metrics: OrderedDict([('distributor', ()), ('client_work', OrderedDict([('train', OrderedDict([('mean_squared_error', 4659.044), ('loss', 4687.348), ('num_examples', 4930), ('num_batches', 155)]))])), ('aggregator', OrderedDict([('mean_value', ()), ('mean_weight', ())])), ('finalizer', OrderedDict([('update_non_finite', 0)]))])\n",
            "Starting Round 6...\n",
            "Round 6, Metrics: OrderedDict([('distributor', ()), ('client_work', OrderedDict([('train', OrderedDict([('mean_squared_error', 4648.277), ('loss', 4676.515), ('num_examples', 4930), ('num_batches', 155)]))])), ('aggregator', OrderedDict([('mean_value', ()), ('mean_weight', ())])), ('finalizer', OrderedDict([('update_non_finite', 0)]))])\n",
            "Starting Round 7...\n",
            "Round 7, Metrics: OrderedDict([('distributor', ()), ('client_work', OrderedDict([('train', OrderedDict([('mean_squared_error', 4642.8833), ('loss', 4671.0884), ('num_examples', 4930), ('num_batches', 155)]))])), ('aggregator', OrderedDict([('mean_value', ()), ('mean_weight', ())])), ('finalizer', OrderedDict([('update_non_finite', 0)]))])\n",
            "Starting Round 8...\n",
            "Round 8, Metrics: OrderedDict([('distributor', ()), ('client_work', OrderedDict([('train', OrderedDict([('mean_squared_error', 4640.1167), ('loss', 4668.3057), ('num_examples', 4930), ('num_batches', 155)]))])), ('aggregator', OrderedDict([('mean_value', ()), ('mean_weight', ())])), ('finalizer', OrderedDict([('update_non_finite', 0)]))])\n",
            "Starting Round 9...\n",
            "Round 9, Metrics: OrderedDict([('distributor', ()), ('client_work', OrderedDict([('train', OrderedDict([('mean_squared_error', 4638.653), ('loss', 4666.8325), ('num_examples', 4930), ('num_batches', 155)]))])), ('aggregator', OrderedDict([('mean_value', ()), ('mean_weight', ())])), ('finalizer', OrderedDict([('update_non_finite', 0)]))])\n",
            "Starting Round 10...\n",
            "Round 10, Metrics: OrderedDict([('distributor', ()), ('client_work', OrderedDict([('train', OrderedDict([('mean_squared_error', 4637.849), ('loss', 4666.024), ('num_examples', 4930), ('num_batches', 155)]))])), ('aggregator', OrderedDict([('mean_value', ()), ('mean_weight', ())])), ('finalizer', OrderedDict([('update_non_finite', 0)]))])\n"
          ]
        }
      ]
    },
    {
      "cell_type": "code",
      "source": [],
      "metadata": {
        "id": "ERK53lVx1U2N"
      },
      "execution_count": null,
      "outputs": []
    },
    {
      "cell_type": "markdown",
      "source": [],
      "metadata": {
        "id": "0QJuyqjN2sUc"
      }
    },
    {
      "cell_type": "markdown",
      "source": [
        "while everythng the same and when only we change # Adjusted learning rate from 0.001 to 0.1"
      ],
      "metadata": {
        "id": "JgYgxiBP27s5"
      }
    },
    {
      "cell_type": "code",
      "source": [
        "# Define the federated learning model\n",
        "def model_fn():\n",
        "    model = tf.keras.Sequential([\n",
        "        tf.keras.layers.LSTM(128, return_sequences=True, input_shape=(sequence_length, 6)),\n",
        "        tf.keras.layers.LSTM(64),\n",
        "        tf.keras.layers.Dense(1)  # Output layer for regression\n",
        "    ])\n",
        "    return tff.learning.models.from_keras_model(\n",
        "        keras_model=model,\n",
        "        input_spec=client_data[0].element_spec,\n",
        "        loss=tf.keras.losses.MeanSquaredError(),\n",
        "        metrics=[tf.keras.metrics.MeanSquaredError()]\n",
        "    )\n",
        "\n",
        "# Define optimizers\n",
        "client_optimizer_fn = tff.learning.optimizers.build_sgdm(learning_rate=0.01)\n",
        "server_optimizer_fn = tff.learning.optimizers.build_sgdm(learning_rate=0.5)\n",
        "\n",
        "# Build the federated averaging process\n",
        "iterative_process = tff.learning.algorithms.build_weighted_fed_avg(\n",
        "    model_fn=model_fn,\n",
        "    client_optimizer_fn=client_optimizer_fn,\n",
        "    server_optimizer_fn=server_optimizer_fn\n",
        ")\n",
        "\n",
        "# Train the federated model\n",
        "state = iterative_process.initialize()\n",
        "num_rounds = 10\n",
        "for round_num in range(1, num_rounds + 1):\n",
        "    print(f\"Starting Round {round_num}...\")\n",
        "    state, metrics = iterative_process.next(state, client_data)\n",
        "    print(f\"Round {round_num}, Metrics: {metrics}\")\n"
      ],
      "metadata": {
        "colab": {
          "base_uri": "https://localhost:8080/"
        },
        "id": "IE8VX08a1Utv",
        "outputId": "bfd4472f-6638-40a3-e54f-025df93be62c"
      },
      "execution_count": null,
      "outputs": [
        {
          "output_type": "stream",
          "name": "stdout",
          "text": [
            "Starting Round 1...\n",
            "Round 1, Metrics: OrderedDict([('distributor', ()), ('client_work', OrderedDict([('train', OrderedDict([('mean_squared_error', 1388.189), ('loss', 1396.6316), ('num_examples', 4930), ('num_batches', 155)]))])), ('aggregator', OrderedDict([('mean_value', ()), ('mean_weight', ())])), ('finalizer', OrderedDict([('update_non_finite', 0)]))])\n",
            "Starting Round 2...\n",
            "Round 2, Metrics: OrderedDict([('distributor', ()), ('client_work', OrderedDict([('train', OrderedDict([('mean_squared_error', 1209.3702), ('loss', 1216.7249), ('num_examples', 4930), ('num_batches', 155)]))])), ('aggregator', OrderedDict([('mean_value', ()), ('mean_weight', ())])), ('finalizer', OrderedDict([('update_non_finite', 0)]))])\n",
            "Starting Round 3...\n",
            "Round 3, Metrics: OrderedDict([('distributor', ()), ('client_work', OrderedDict([('train', OrderedDict([('mean_squared_error', 1193.4888), ('loss', 1200.7457), ('num_examples', 4930), ('num_batches', 155)]))])), ('aggregator', OrderedDict([('mean_value', ()), ('mean_weight', ())])), ('finalizer', OrderedDict([('update_non_finite', 0)]))])\n",
            "Starting Round 4...\n",
            "Round 4, Metrics: OrderedDict([('distributor', ()), ('client_work', OrderedDict([('train', OrderedDict([('mean_squared_error', 1205.8507), ('loss', 1213.1802), ('num_examples', 4930), ('num_batches', 155)]))])), ('aggregator', OrderedDict([('mean_value', ()), ('mean_weight', ())])), ('finalizer', OrderedDict([('update_non_finite', 0)]))])\n",
            "Starting Round 5...\n",
            "Round 5, Metrics: OrderedDict([('distributor', ()), ('client_work', OrderedDict([('train', OrderedDict([('mean_squared_error', 1197.7039), ('loss', 1204.9847), ('num_examples', 4930), ('num_batches', 155)]))])), ('aggregator', OrderedDict([('mean_value', ()), ('mean_weight', ())])), ('finalizer', OrderedDict([('update_non_finite', 0)]))])\n",
            "Starting Round 6...\n",
            "Round 6, Metrics: OrderedDict([('distributor', ()), ('client_work', OrderedDict([('train', OrderedDict([('mean_squared_error', 1204.2686), ('loss', 1211.5884), ('num_examples', 4930), ('num_batches', 155)]))])), ('aggregator', OrderedDict([('mean_value', ()), ('mean_weight', ())])), ('finalizer', OrderedDict([('update_non_finite', 0)]))])\n",
            "Starting Round 7...\n",
            "Round 7, Metrics: OrderedDict([('distributor', ()), ('client_work', OrderedDict([('train', OrderedDict([('mean_squared_error', 1204.5103), ('loss', 1211.8317), ('num_examples', 4930), ('num_batches', 155)]))])), ('aggregator', OrderedDict([('mean_value', ()), ('mean_weight', ())])), ('finalizer', OrderedDict([('update_non_finite', 0)]))])\n",
            "Starting Round 8...\n",
            "Round 8, Metrics: OrderedDict([('distributor', ()), ('client_work', OrderedDict([('train', OrderedDict([('mean_squared_error', 1205.0776), ('loss', 1212.4025), ('num_examples', 4930), ('num_batches', 155)]))])), ('aggregator', OrderedDict([('mean_value', ()), ('mean_weight', ())])), ('finalizer', OrderedDict([('update_non_finite', 0)]))])\n",
            "Starting Round 9...\n",
            "Round 9, Metrics: OrderedDict([('distributor', ()), ('client_work', OrderedDict([('train', OrderedDict([('mean_squared_error', 1205.4401), ('loss', 1212.7671), ('num_examples', 4930), ('num_batches', 155)]))])), ('aggregator', OrderedDict([('mean_value', ()), ('mean_weight', ())])), ('finalizer', OrderedDict([('update_non_finite', 0)]))])\n",
            "Starting Round 10...\n",
            "Round 10, Metrics: OrderedDict([('distributor', ()), ('client_work', OrderedDict([('train', OrderedDict([('mean_squared_error', 1205.6228), ('loss', 1212.9509), ('num_examples', 4930), ('num_batches', 155)]))])), ('aggregator', OrderedDict([('mean_value', ()), ('mean_weight', ())])), ('finalizer', OrderedDict([('update_non_finite', 0)]))])\n"
          ]
        }
      ]
    }
  ]
}